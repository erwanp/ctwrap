{
 "cells": [
  {
   "cell_type": "markdown",
   "metadata": {},
   "source": [
    "# Running Simulations from the Commandline\n",
    "\n",
    "All inputs are specified in YAML configuration files.\n",
    "\n",
    "Example makes are run on the command line within jupyter (using [system magic](https://ipython.readthedocs.io/en/stable/interactive/magics.html#magic-system) via `!`)"
   ]
  },
  {
   "cell_type": "markdown",
   "metadata": {},
   "source": [
    "## Help"
   ]
  },
  {
   "cell_type": "code",
   "execution_count": 1,
   "metadata": {
    "execution": {
     "iopub.execute_input": "2020-12-20T04:47:25.225341Z",
     "iopub.status.busy": "2020-12-20T04:47:25.224914Z",
     "iopub.status.idle": "2020-12-20T04:47:25.908371Z",
     "shell.execute_reply": "2020-12-20T04:47:25.907382Z"
    }
   },
   "outputs": [
    {
     "name": "stdout",
     "output_type": "stream",
     "text": [
      "usage: ctwrap [-h] [--output OUTPUT] [-v] [--parallel]\r\n",
      "              [--strategy {sequence,matrix}]\r\n",
      "              module_name yaml_config\r\n",
      "\r\n",
      "Wrapper for batch simulations (ctwrap).\r\n",
      "\r\n",
      "positional arguments:\r\n",
      "  module_name           name of wrapped simulation module\r\n",
      "  yaml_config           yaml configuration file\r\n",
      "\r\n",
      "optional arguments:\r\n",
      "  -h, --help            show this help message and exit\r\n",
      "  --output OUTPUT       name of output file\r\n",
      "  -v, --verbosity       verbosity level\r\n",
      "  --parallel            run parallel calculations\r\n",
      "  --strategy {sequence,matrix}\r\n",
      "                        batch job strategy\r\n"
     ]
    }
   ],
   "source": [
    "# display help \n",
    "! ctwrap --help"
   ]
  },
  {
   "cell_type": "markdown",
   "metadata": {},
   "source": [
    "## `minimal` Module"
   ]
  },
  {
   "cell_type": "code",
   "execution_count": 2,
   "metadata": {
    "execution": {
     "iopub.execute_input": "2020-12-20T04:47:25.914711Z",
     "iopub.status.busy": "2020-12-20T04:47:25.912695Z",
     "iopub.status.idle": "2020-12-20T04:47:30.215377Z",
     "shell.execute_reply": "2020-12-20T04:47:30.214926Z"
    }
   },
   "outputs": [
    {
     "name": "stdout",
     "output_type": "stream",
     "text": [
      "    - `minimal`: sleeping for 0.1 * 1 = 0.1 seconds ...\r\n"
     ]
    },
    {
     "name": "stdout",
     "output_type": "stream",
     "text": [
      "    - `minimal`: sleeping for 0.2 * 1 = 0.2 seconds ...\r\n"
     ]
    },
    {
     "name": "stdout",
     "output_type": "stream",
     "text": [
      "    - `minimal`: sleeping for 0.3 * 1 = 0.3 seconds ...\r\n"
     ]
    },
    {
     "name": "stdout",
     "output_type": "stream",
     "text": [
      "    - `minimal`: sleeping for 0.4 * 1 = 0.4 seconds ...\r\n"
     ]
    },
    {
     "name": "stdout",
     "output_type": "stream",
     "text": [
      "    - `minimal`: sleeping for 0.5 * 1 = 0.5 seconds ...\r\n"
     ]
    },
    {
     "name": "stdout",
     "output_type": "stream",
     "text": [
      "    - `minimal`: sleeping for 0.6 * 1 = 0.6 seconds ...\r\n"
     ]
    },
    {
     "name": "stdout",
     "output_type": "stream",
     "text": [
      "    - `minimal`: sleeping for 0.7 * 1 = 0.7 seconds ...\r\n"
     ]
    },
    {
     "name": "stdout",
     "output_type": "stream",
     "text": [
      "    - `minimal`: sleeping for 0.8 * 1 = 0.8 seconds ...\r\n"
     ]
    },
    {
     "name": "stdout",
     "output_type": "stream",
     "text": [
      "CPU times: user 70.6 ms, sys: 16.5 ms, total: 87.1 ms\n",
      "Wall time: 4.3 s\n"
     ]
    }
   ],
   "source": [
    "%%time\n",
    "# run minimal module (with 'sequence' strategy)\n",
    "! ctwrap minimal ../../yaml/minimal.yaml --strategy sequence"
   ]
  },
  {
   "cell_type": "code",
   "execution_count": 3,
   "metadata": {
    "execution": {
     "iopub.execute_input": "2020-12-20T04:47:30.221856Z",
     "iopub.status.busy": "2020-12-20T04:47:30.219062Z",
     "iopub.status.idle": "2020-12-20T04:47:34.534160Z",
     "shell.execute_reply": "2020-12-20T04:47:34.534585Z"
    }
   },
   "outputs": [
    {
     "name": "stdout",
     "output_type": "stream",
     "text": [
      "    - `minimal`: sleeping for 0.1 * 1 = 0.1 seconds ...\r\n"
     ]
    },
    {
     "name": "stdout",
     "output_type": "stream",
     "text": [
      "    - `minimal`: sleeping for 0.2 * 1 = 0.2 seconds ...\r\n"
     ]
    },
    {
     "name": "stdout",
     "output_type": "stream",
     "text": [
      "    - `minimal`: sleeping for 0.3 * 1 = 0.3 seconds ...\r\n"
     ]
    },
    {
     "name": "stdout",
     "output_type": "stream",
     "text": [
      "    - `minimal`: sleeping for 0.4 * 1 = 0.4 seconds ...\r\n"
     ]
    },
    {
     "name": "stdout",
     "output_type": "stream",
     "text": [
      "    - `minimal`: sleeping for 0.5 * 1 = 0.5 seconds ...\r\n"
     ]
    },
    {
     "name": "stdout",
     "output_type": "stream",
     "text": [
      "    - `minimal`: sleeping for 0.6 * 1 = 0.6 seconds ...\r\n"
     ]
    },
    {
     "name": "stdout",
     "output_type": "stream",
     "text": [
      "    - `minimal`: sleeping for 0.7 * 1 = 0.7 seconds ...\r\n"
     ]
    },
    {
     "name": "stdout",
     "output_type": "stream",
     "text": [
      "    - `minimal`: sleeping for 0.8 * 1 = 0.8 seconds ...\r\n"
     ]
    },
    {
     "name": "stdout",
     "output_type": "stream",
     "text": [
      "CPU times: user 74.4 ms, sys: 14.8 ms, total: 89.2 ms\n",
      "Wall time: 4.31 s\n"
     ]
    }
   ],
   "source": [
    "%%time\n",
    "# run minimal module (with 'sequence' strategy)\n",
    "! ctwrap minimal ../../yaml/minimal.yaml --parallel --strategy sequence"
   ]
  },
  {
   "cell_type": "markdown",
   "metadata": {},
   "source": [
    "## `ignition` Module"
   ]
  },
  {
   "cell_type": "code",
   "execution_count": 4,
   "metadata": {
    "execution": {
     "iopub.execute_input": "2020-12-20T04:47:34.540975Z",
     "iopub.status.busy": "2020-12-20T04:47:34.538485Z",
     "iopub.status.idle": "2020-12-20T04:47:35.486919Z",
     "shell.execute_reply": "2020-12-20T04:47:35.487341Z"
    }
   },
   "outputs": [
    {
     "name": "stdout",
     "output_type": "stream",
     "text": [
      "################################################################################\r\n",
      "Running simulations: module `ctwrap.modules.ignition`\r\n",
      "Conditions specified in `../../yaml/ignition.yaml` \r\n",
      "################################################################################\r\n"
     ]
    },
    {
     "name": "stdout",
     "output_type": "stream",
     "text": [
      "Simulations for entry `initial.phi` with values: [0.4, 0.6, 0.8, 1.0, 1.2, 1.4, 1.6, 1.8]\r\n",
      " * processing `initial.phi_0.4`\r\n",
      " * processing `initial.phi_0.6`\r\n"
     ]
    },
    {
     "name": "stdout",
     "output_type": "stream",
     "text": [
      " * processing `initial.phi_0.8`\r\n",
      " * processing `initial.phi_1.0`\r\n"
     ]
    },
    {
     "name": "stdout",
     "output_type": "stream",
     "text": [
      " * processing `initial.phi_1.2`\r\n"
     ]
    },
    {
     "name": "stdout",
     "output_type": "stream",
     "text": [
      " * processing `initial.phi_1.4`\r\n",
      " * processing `initial.phi_1.6`\r\n"
     ]
    },
    {
     "name": "stdout",
     "output_type": "stream",
     "text": [
      " * processing `initial.phi_1.8`\r\n"
     ]
    },
    {
     "name": "stdout",
     "output_type": "stream",
     "text": [
      "CPU times: user 14.1 ms, sys: 3.57 ms, total: 17.7 ms\n",
      "Wall time: 945 ms\n"
     ]
    }
   ],
   "source": [
    "%%time\n",
    "# run parameter variation\n",
    "! ctwrap ignition ../../yaml/ignition.yaml -v --output ignition_example.h5"
   ]
  },
  {
   "cell_type": "code",
   "execution_count": 5,
   "metadata": {
    "execution": {
     "iopub.execute_input": "2020-12-20T04:47:35.491469Z",
     "iopub.status.busy": "2020-12-20T04:47:35.491030Z",
     "iopub.status.idle": "2020-12-20T04:47:35.631984Z",
     "shell.execute_reply": "2020-12-20T04:47:35.631034Z"
    }
   },
   "outputs": [],
   "source": [
    "# delete output file\n",
    "! rm ignition_example.h5"
   ]
  },
  {
   "cell_type": "code",
   "execution_count": 6,
   "metadata": {
    "execution": {
     "iopub.execute_input": "2020-12-20T04:47:35.639117Z",
     "iopub.status.busy": "2020-12-20T04:47:35.635883Z",
     "iopub.status.idle": "2020-12-20T04:47:36.599234Z",
     "shell.execute_reply": "2020-12-20T04:47:36.599682Z"
    }
   },
   "outputs": [
    {
     "name": "stdout",
     "output_type": "stream",
     "text": [
      "################################################################################\r\n",
      "Running simulations: module `ctwrap.modules.ignition`\r\n",
      "Conditions specified in `../../yaml/ignition.yaml` \r\n",
      "################################################################################\r\n"
     ]
    },
    {
     "name": "stdout",
     "output_type": "stream",
     "text": [
      "Simulations for entry `initial.phi` with values: [0.4, 0.6, 0.8, 1.0, 1.2, 1.4, 1.6, 1.8]\r\n",
      " * running simulation using 1 cores\r\n",
      " * processing `initial.phi_0.4` (Process-1)\r\n",
      " * processing `initial.phi_0.6` (Process-1)\r\n"
     ]
    },
    {
     "name": "stdout",
     "output_type": "stream",
     "text": [
      " * processing `initial.phi_0.8` (Process-1)\r\n"
     ]
    },
    {
     "name": "stdout",
     "output_type": "stream",
     "text": [
      " * processing `initial.phi_1.0` (Process-1)\r\n",
      " * processing `initial.phi_1.2` (Process-1)\r\n"
     ]
    },
    {
     "name": "stdout",
     "output_type": "stream",
     "text": [
      " * processing `initial.phi_1.4` (Process-1)\r\n"
     ]
    },
    {
     "name": "stdout",
     "output_type": "stream",
     "text": [
      " * processing `initial.phi_1.6` (Process-1)\r\n",
      " * processing `initial.phi_1.8` (Process-1)\r\n"
     ]
    },
    {
     "name": "stdout",
     "output_type": "stream",
     "text": [
      "CPU times: user 14.6 ms, sys: 3.67 ms, total: 18.3 ms\n",
      "Wall time: 960 ms\n"
     ]
    }
   ],
   "source": [
    "%%time\n",
    "# run parameter variation\n",
    "! ctwrap ignition ../../yaml/ignition.yaml -v --output ignition_example.h5 --parallel"
   ]
  },
  {
   "cell_type": "markdown",
   "metadata": {},
   "source": [
    "## `adiabatic_flame` Module"
   ]
  },
  {
   "cell_type": "code",
   "execution_count": 7,
   "metadata": {
    "execution": {
     "iopub.execute_input": "2020-12-20T04:47:36.605674Z",
     "iopub.status.busy": "2020-12-20T04:47:36.605093Z",
     "iopub.status.idle": "2020-12-20T04:47:46.566423Z",
     "shell.execute_reply": "2020-12-20T04:47:46.566821Z"
    }
   },
   "outputs": [
    {
     "name": "stdout",
     "output_type": "stream",
     "text": [
      "    output_00: mixture-averaged flamespeed = 0.201060 m/s\r\n"
     ]
    },
    {
     "name": "stdout",
     "output_type": "stream",
     "text": [
      "    output_00: multi-component flamespeed  = 0.215240 m/s\r\n"
     ]
    },
    {
     "name": "stdout",
     "output_type": "stream",
     "text": [
      "    output_01: mixture-averaged flamespeed = 0.924044 m/s\r\n"
     ]
    },
    {
     "name": "stdout",
     "output_type": "stream",
     "text": [
      "    output_01: multi-component flamespeed  = 0.934298 m/s\r\n"
     ]
    },
    {
     "name": "stdout",
     "output_type": "stream",
     "text": [
      "    output_02: mixture-averaged flamespeed = 1.735115 m/s\r\n"
     ]
    },
    {
     "name": "stdout",
     "output_type": "stream",
     "text": [
      "    output_02: multi-component flamespeed  = 1.720494 m/s\r\n"
     ]
    },
    {
     "name": "stdout",
     "output_type": "stream",
     "text": [
      "    output_03: mixture-averaged flamespeed = 2.321981 m/s\r\n"
     ]
    },
    {
     "name": "stdout",
     "output_type": "stream",
     "text": [
      "    output_03: multi-component flamespeed  = 2.289830 m/s\r\n"
     ]
    },
    {
     "name": "stdout",
     "output_type": "stream",
     "text": [
      "    output_04: mixture-averaged flamespeed = 2.716008 m/s\r\n"
     ]
    },
    {
     "name": "stdout",
     "output_type": "stream",
     "text": [
      "    output_04: multi-component flamespeed  = 2.671847 m/s\r\n"
     ]
    },
    {
     "name": "stdout",
     "output_type": "stream",
     "text": [
      "    output_05: mixture-averaged flamespeed = 2.951058 m/s\r\n"
     ]
    },
    {
     "name": "stdout",
     "output_type": "stream",
     "text": [
      "    output_05: multi-component flamespeed  = 2.899538 m/s\r\n"
     ]
    },
    {
     "name": "stdout",
     "output_type": "stream",
     "text": [
      "    output_06: mixture-averaged flamespeed = 3.051440 m/s\r\n"
     ]
    },
    {
     "name": "stdout",
     "output_type": "stream",
     "text": [
      "    output_06: multi-component flamespeed  = 2.997036 m/s\r\n"
     ]
    },
    {
     "name": "stdout",
     "output_type": "stream",
     "text": [
      "    output_07: mixture-averaged flamespeed = 3.045362 m/s\r\n"
     ]
    },
    {
     "name": "stdout",
     "output_type": "stream",
     "text": [
      "    output_07: multi-component flamespeed  = 2.992064 m/s\r\n"
     ]
    },
    {
     "name": "stdout",
     "output_type": "stream",
     "text": [
      "    output_08: mixture-averaged flamespeed = 2.973848 m/s\r\n"
     ]
    },
    {
     "name": "stdout",
     "output_type": "stream",
     "text": [
      "    output_08: multi-component flamespeed  = 2.924855 m/s\r\n"
     ]
    },
    {
     "name": "stdout",
     "output_type": "stream",
     "text": [
      "    output_09: mixture-averaged flamespeed = 2.860112 m/s\r\n"
     ]
    },
    {
     "name": "stdout",
     "output_type": "stream",
     "text": [
      "    output_09: multi-component flamespeed  = 2.817618 m/s\r\n"
     ]
    },
    {
     "name": "stdout",
     "output_type": "stream",
     "text": [
      "    output_10: mixture-averaged flamespeed = 2.726691 m/s\r\n"
     ]
    },
    {
     "name": "stdout",
     "output_type": "stream",
     "text": [
      "    output_10: multi-component flamespeed  = 2.691153 m/s\r\n"
     ]
    },
    {
     "name": "stdout",
     "output_type": "stream",
     "text": [
      "    output_11: mixture-averaged flamespeed = 2.586446 m/s\r\n"
     ]
    },
    {
     "name": "stdout",
     "output_type": "stream",
     "text": [
      "    output_11: multi-component flamespeed  = 2.558387 m/s\r\n"
     ]
    },
    {
     "name": "stdout",
     "output_type": "stream",
     "text": [
      "CPU times: user 121 ms, sys: 24.2 ms, total: 145 ms\n",
      "Wall time: 9.96 s\n"
     ]
    }
   ],
   "source": [
    "%%time\n",
    "# run parameter variation\n",
    "! ctwrap adiabatic_flame ../../yaml/adiabatic_flame.yaml --output adiabatic_flame_example"
   ]
  },
  {
   "cell_type": "code",
   "execution_count": 8,
   "metadata": {
    "execution": {
     "iopub.execute_input": "2020-12-20T04:47:46.572319Z",
     "iopub.status.busy": "2020-12-20T04:47:46.570323Z",
     "iopub.status.idle": "2020-12-20T04:47:46.711082Z",
     "shell.execute_reply": "2020-12-20T04:47:46.709984Z"
    }
   },
   "outputs": [],
   "source": [
    "# delete output file\n",
    "!rm adiabatic_flame_example.h5"
   ]
  },
  {
   "cell_type": "code",
   "execution_count": 9,
   "metadata": {
    "execution": {
     "iopub.execute_input": "2020-12-20T04:47:46.717723Z",
     "iopub.status.busy": "2020-12-20T04:47:46.715179Z",
     "iopub.status.idle": "2020-12-20T04:47:56.681506Z",
     "shell.execute_reply": "2020-12-20T04:47:56.681854Z"
    }
   },
   "outputs": [
    {
     "name": "stdout",
     "output_type": "stream",
     "text": [
      "    output_00: mixture-averaged flamespeed = 0.201060 m/s\r\n"
     ]
    },
    {
     "name": "stdout",
     "output_type": "stream",
     "text": [
      "    output_00: multi-component flamespeed  = 0.215240 m/s\r\n"
     ]
    },
    {
     "name": "stdout",
     "output_type": "stream",
     "text": [
      "    output_01: mixture-averaged flamespeed = 0.924044 m/s\r\n"
     ]
    },
    {
     "name": "stdout",
     "output_type": "stream",
     "text": [
      "    output_01: multi-component flamespeed  = 0.934298 m/s\r\n"
     ]
    },
    {
     "name": "stdout",
     "output_type": "stream",
     "text": [
      "    output_02: mixture-averaged flamespeed = 1.735115 m/s\r\n"
     ]
    },
    {
     "name": "stdout",
     "output_type": "stream",
     "text": [
      "    output_02: multi-component flamespeed  = 1.720494 m/s\r\n"
     ]
    },
    {
     "name": "stdout",
     "output_type": "stream",
     "text": [
      "    output_03: mixture-averaged flamespeed = 2.321981 m/s\r\n"
     ]
    },
    {
     "name": "stdout",
     "output_type": "stream",
     "text": [
      "    output_03: multi-component flamespeed  = 2.289830 m/s\r\n"
     ]
    },
    {
     "name": "stdout",
     "output_type": "stream",
     "text": [
      "    output_04: mixture-averaged flamespeed = 2.716008 m/s\r\n"
     ]
    },
    {
     "name": "stdout",
     "output_type": "stream",
     "text": [
      "    output_04: multi-component flamespeed  = 2.671847 m/s\r\n"
     ]
    },
    {
     "name": "stdout",
     "output_type": "stream",
     "text": [
      "    output_05: mixture-averaged flamespeed = 2.951058 m/s\r\n"
     ]
    },
    {
     "name": "stdout",
     "output_type": "stream",
     "text": [
      "    output_05: multi-component flamespeed  = 2.899538 m/s\r\n"
     ]
    },
    {
     "name": "stdout",
     "output_type": "stream",
     "text": [
      "    output_06: mixture-averaged flamespeed = 3.051440 m/s\r\n"
     ]
    },
    {
     "name": "stdout",
     "output_type": "stream",
     "text": [
      "    output_06: multi-component flamespeed  = 2.997036 m/s\r\n"
     ]
    },
    {
     "name": "stdout",
     "output_type": "stream",
     "text": [
      "    output_07: mixture-averaged flamespeed = 3.045362 m/s\r\n"
     ]
    },
    {
     "name": "stdout",
     "output_type": "stream",
     "text": [
      "    output_07: multi-component flamespeed  = 2.992064 m/s\r\n"
     ]
    },
    {
     "name": "stdout",
     "output_type": "stream",
     "text": [
      "    output_08: mixture-averaged flamespeed = 2.973848 m/s\r\n"
     ]
    },
    {
     "name": "stdout",
     "output_type": "stream",
     "text": [
      "    output_08: multi-component flamespeed  = 2.924855 m/s\r\n"
     ]
    },
    {
     "name": "stdout",
     "output_type": "stream",
     "text": [
      "    output_09: mixture-averaged flamespeed = 2.860112 m/s\r\n"
     ]
    },
    {
     "name": "stdout",
     "output_type": "stream",
     "text": [
      "    output_09: multi-component flamespeed  = 2.817618 m/s\r\n"
     ]
    },
    {
     "name": "stdout",
     "output_type": "stream",
     "text": [
      "    output_10: mixture-averaged flamespeed = 2.726691 m/s\r\n"
     ]
    },
    {
     "name": "stdout",
     "output_type": "stream",
     "text": [
      "    output_10: multi-component flamespeed  = 2.691153 m/s\r\n"
     ]
    },
    {
     "name": "stdout",
     "output_type": "stream",
     "text": [
      "    output_11: mixture-averaged flamespeed = 2.586446 m/s\r\n"
     ]
    },
    {
     "name": "stdout",
     "output_type": "stream",
     "text": [
      "    output_11: multi-component flamespeed  = 2.558387 m/s\r\n"
     ]
    },
    {
     "name": "stdout",
     "output_type": "stream",
     "text": [
      "CPU times: user 130 ms, sys: 17.8 ms, total: 148 ms\n",
      "Wall time: 9.96 s\n"
     ]
    }
   ],
   "source": [
    "%%time\n",
    "# run parameter variation\n",
    "! ctwrap adiabatic_flame ../../yaml/adiabatic_flame.yaml --output adiabatic_flame_example.h5 --parallel"
   ]
  },
  {
   "cell_type": "code",
   "execution_count": null,
   "metadata": {},
   "outputs": [],
   "source": []
  }
 ],
 "metadata": {
  "kernelspec": {
   "display_name": "Python 3",
   "language": "python",
   "name": "python3"
  },
  "language_info": {
   "codemirror_mode": {
    "name": "ipython",
    "version": 3
   },
   "file_extension": ".py",
   "mimetype": "text/x-python",
   "name": "python",
   "nbconvert_exporter": "python",
   "pygments_lexer": "ipython3",
   "version": "3.7.9"
  }
 },
 "nbformat": 4,
 "nbformat_minor": 2
}
