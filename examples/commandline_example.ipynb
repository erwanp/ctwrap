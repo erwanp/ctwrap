{
 "cells": [
  {
   "cell_type": "markdown",
   "metadata": {},
   "source": [
    "# Running Simulations from the Commandline\n",
    "\n",
    "All inputs are specified in YAML configuration files.\n",
    "\n",
    "Example makes are run on the command line within jupyter (using [system magic](https://ipython.readthedocs.io/en/stable/interactive/magics.html#magic-system) via `!`)"
   ]
  },
  {
   "cell_type": "markdown",
   "metadata": {},
   "source": [
    "## Help"
   ]
  },
  {
   "cell_type": "code",
   "execution_count": 1,
   "metadata": {
    "execution": {
     "iopub.execute_input": "2020-12-19T06:26:17.367549Z",
     "iopub.status.busy": "2020-12-19T06:26:17.366978Z",
     "iopub.status.idle": "2020-12-19T06:26:18.217114Z",
     "shell.execute_reply": "2020-12-19T06:26:18.217667Z"
    }
   },
   "outputs": [
    {
     "name": "stdout",
     "output_type": "stream",
     "text": [
      "usage: ctwrap [-h] [--output OUTPUT] [-v] [--parallel]\r\n",
      "              [--strategy {sequence,matrix}]\r\n",
      "              module_name yaml_config\r\n",
      "\r\n",
      "Simulation of constant pressure ignition (ctwrap).\r\n",
      "\r\n",
      "positional arguments:\r\n",
      "  module_name           wrapped module (specifies Python import path as\r\n",
      "                        <module_name> or ctwrap.modules.<module_name>)\r\n",
      "  yaml_config           yaml configuration file\r\n",
      "\r\n",
      "optional arguments:\r\n",
      "  -h, --help            show this help message and exit\r\n",
      "  --output OUTPUT       name of output file\r\n",
      "  -v, --verbosity       verbosity level\r\n",
      "  --parallel            run parallel calculations\r\n",
      "  --strategy {sequence,matrix}\r\n",
      "                        batch job strategy\r\n"
     ]
    }
   ],
   "source": [
    "# display help \n",
    "! ctwrap --help"
   ]
  },
  {
   "cell_type": "markdown",
   "metadata": {},
   "source": [
    "## `minimal` Module"
   ]
  },
  {
   "cell_type": "code",
   "execution_count": 2,
   "metadata": {
    "execution": {
     "iopub.execute_input": "2020-12-19T06:26:18.225888Z",
     "iopub.status.busy": "2020-12-19T06:26:18.224198Z",
     "iopub.status.idle": "2020-12-19T06:26:19.096226Z",
     "shell.execute_reply": "2020-12-19T06:26:19.095746Z"
    }
   },
   "outputs": [
    {
     "name": "stdout",
     "output_type": "stream",
     "text": [
      "Traceback (most recent call last):\r\n",
      "  File \"/usr/share/miniconda/envs/ctwrap/bin/ctwrap\", line 33, in <module>\r\n",
      "    sys.exit(load_entry_point('ctwrap', 'console_scripts', 'ctwrap')())\r\n",
      "  File \"/home/runner/work/ctwrap/ctwrap/ctwrap/bin/ctwrap.py\", line 72, in main\r\n",
      "    yml_file, strategy=strategy, verbosity=verbosity, name=output_file)\r\n",
      "  File \"/home/runner/work/ctwrap/ctwrap/ctwrap/simulation.py\", line 375, in from_yaml\r\n",
      "    return cls.from_dict(content, strategy=strategy, name=name, path=path, **kwargs)\r\n",
      "  File \"/home/runner/work/ctwrap/ctwrap/ctwrap/simulation.py\", line 401, in from_dict\r\n",
      "    strategy = Strategy.load(content['strategy'], name=strategy)\r\n",
      "  File \"/home/runner/work/ctwrap/ctwrap/ctwrap/strategy.py\", line 186, in load\r\n",
      "    raise ValueError(\"Parameter 'name' is required if multiple strategies are defined\")\r\n",
      "ValueError: Parameter 'name' is required if multiple strategies are defined\r\n"
     ]
    },
    {
     "name": "stdout",
     "output_type": "stream",
     "text": [
      "CPU times: user 13.9 ms, sys: 1.93 ms, total: 15.9 ms\n",
      "Wall time: 868 ms\n"
     ]
    }
   ],
   "source": [
    "%%time\n",
    "# run minimal module \n",
    "! ctwrap minimal ../../yaml/minimal.yaml"
   ]
  },
  {
   "cell_type": "code",
   "execution_count": 3,
   "metadata": {
    "execution": {
     "iopub.execute_input": "2020-12-19T06:26:19.103602Z",
     "iopub.status.busy": "2020-12-19T06:26:19.103063Z",
     "iopub.status.idle": "2020-12-19T06:26:19.943446Z",
     "shell.execute_reply": "2020-12-19T06:26:19.943881Z"
    }
   },
   "outputs": [
    {
     "name": "stdout",
     "output_type": "stream",
     "text": [
      "Traceback (most recent call last):\r\n",
      "  File \"/usr/share/miniconda/envs/ctwrap/bin/ctwrap\", line 33, in <module>\r\n",
      "    sys.exit(load_entry_point('ctwrap', 'console_scripts', 'ctwrap')())\r\n",
      "  File \"/home/runner/work/ctwrap/ctwrap/ctwrap/bin/ctwrap.py\", line 72, in main\r\n",
      "    yml_file, strategy=strategy, verbosity=verbosity, name=output_file)\r\n",
      "  File \"/home/runner/work/ctwrap/ctwrap/ctwrap/simulation.py\", line 375, in from_yaml\r\n",
      "    return cls.from_dict(content, strategy=strategy, name=name, path=path, **kwargs)\r\n",
      "  File \"/home/runner/work/ctwrap/ctwrap/ctwrap/simulation.py\", line 401, in from_dict\r\n",
      "    strategy = Strategy.load(content['strategy'], name=strategy)\r\n",
      "  File \"/home/runner/work/ctwrap/ctwrap/ctwrap/strategy.py\", line 186, in load\r\n",
      "    raise ValueError(\"Parameter 'name' is required if multiple strategies are defined\")\r\n",
      "ValueError: Parameter 'name' is required if multiple strategies are defined\r\n"
     ]
    },
    {
     "name": "stdout",
     "output_type": "stream",
     "text": [
      "CPU times: user 9.68 ms, sys: 5.61 ms, total: 15.3 ms\n",
      "Wall time: 838 ms\n"
     ]
    }
   ],
   "source": [
    "%%time\n",
    "# run minimal module\n",
    "! ctwrap minimal ../../yaml/minimal.yaml --parallel"
   ]
  },
  {
   "cell_type": "markdown",
   "metadata": {},
   "source": [
    "## `ignition` Module"
   ]
  },
  {
   "cell_type": "code",
   "execution_count": 4,
   "metadata": {
    "execution": {
     "iopub.execute_input": "2020-12-19T06:26:19.950967Z",
     "iopub.status.busy": "2020-12-19T06:26:19.948257Z",
     "iopub.status.idle": "2020-12-19T06:26:21.156735Z",
     "shell.execute_reply": "2020-12-19T06:26:21.156167Z"
    }
   },
   "outputs": [
    {
     "name": "stdout",
     "output_type": "stream",
     "text": [
      "################################################################################\r\n",
      "Running simulations: module `ctwrap.modules.ignition`\r\n",
      "Conditions specified in `../../yaml/ignition.yaml` \r\n",
      "################################################################################\r\n",
      "Simulations for entry `initial.phi` with values: [0.4, 0.6, 0.8, 1.0, 1.2, 1.4, 1.6, 1.8]\r\n",
      " * processing `initial.phi_0.4`\r\n"
     ]
    },
    {
     "name": "stdout",
     "output_type": "stream",
     "text": [
      " * processing `initial.phi_0.6`\r\n",
      " * processing `initial.phi_0.8`\r\n"
     ]
    },
    {
     "name": "stdout",
     "output_type": "stream",
     "text": [
      " * processing `initial.phi_1.0`\r\n"
     ]
    },
    {
     "name": "stdout",
     "output_type": "stream",
     "text": [
      " * processing `initial.phi_1.2`\r\n"
     ]
    },
    {
     "name": "stdout",
     "output_type": "stream",
     "text": [
      " * processing `initial.phi_1.4`\r\n",
      " * processing `initial.phi_1.6`\r\n"
     ]
    },
    {
     "name": "stdout",
     "output_type": "stream",
     "text": [
      " * processing `initial.phi_1.8`\r\n"
     ]
    },
    {
     "name": "stdout",
     "output_type": "stream",
     "text": [
      "CPU times: user 21.8 ms, sys: 2.31 ms, total: 24.2 ms\n",
      "Wall time: 1.2 s\n"
     ]
    }
   ],
   "source": [
    "%%time\n",
    "# run parameter variation\n",
    "! ctwrap ignition ../../yaml/ignition.yaml -v --output ignition_example.h5"
   ]
  },
  {
   "cell_type": "code",
   "execution_count": 5,
   "metadata": {
    "execution": {
     "iopub.execute_input": "2020-12-19T06:26:21.163759Z",
     "iopub.status.busy": "2020-12-19T06:26:21.160688Z",
     "iopub.status.idle": "2020-12-19T06:26:21.308111Z",
     "shell.execute_reply": "2020-12-19T06:26:21.308879Z"
    }
   },
   "outputs": [],
   "source": [
    "# delete output file\n",
    "! rm ignition_example.h5"
   ]
  },
  {
   "cell_type": "code",
   "execution_count": 6,
   "metadata": {
    "execution": {
     "iopub.execute_input": "2020-12-19T06:26:21.317985Z",
     "iopub.status.busy": "2020-12-19T06:26:21.315896Z",
     "iopub.status.idle": "2020-12-19T06:26:22.562707Z",
     "shell.execute_reply": "2020-12-19T06:26:22.563124Z"
    }
   },
   "outputs": [
    {
     "name": "stdout",
     "output_type": "stream",
     "text": [
      "################################################################################\r\n",
      "Running simulations: module `ctwrap.modules.ignition`\r\n",
      "Conditions specified in `../../yaml/ignition.yaml` \r\n",
      "################################################################################\r\n",
      "Simulations for entry `initial.phi` with values: [0.4, 0.6, 0.8, 1.0, 1.2, 1.4, 1.6, 1.8]\r\n",
      " * running simulation using 1 cores\r\n",
      " * processing `initial.phi_0.4` (Process-1)\r\n"
     ]
    },
    {
     "name": "stdout",
     "output_type": "stream",
     "text": [
      " * processing `initial.phi_0.6` (Process-1)\r\n"
     ]
    },
    {
     "name": "stdout",
     "output_type": "stream",
     "text": [
      " * processing `initial.phi_0.8` (Process-1)\r\n"
     ]
    },
    {
     "name": "stdout",
     "output_type": "stream",
     "text": [
      " * processing `initial.phi_1.0` (Process-1)\r\n"
     ]
    },
    {
     "name": "stdout",
     "output_type": "stream",
     "text": [
      " * processing `initial.phi_1.2` (Process-1)\r\n",
      " * processing `initial.phi_1.4` (Process-1)\r\n"
     ]
    },
    {
     "name": "stdout",
     "output_type": "stream",
     "text": [
      " * processing `initial.phi_1.6` (Process-1)\r\n"
     ]
    },
    {
     "name": "stdout",
     "output_type": "stream",
     "text": [
      " * processing `initial.phi_1.8` (Process-1)\r\n"
     ]
    },
    {
     "name": "stdout",
     "output_type": "stream",
     "text": [
      "CPU times: user 18.3 ms, sys: 7.54 ms, total: 25.9 ms\n",
      "Wall time: 1.24 s\n"
     ]
    }
   ],
   "source": [
    "%%time\n",
    "# run parameter variation\n",
    "! ctwrap ignition ../../yaml/ignition.yaml -v --output ignition_example.h5 --parallel"
   ]
  },
  {
   "cell_type": "markdown",
   "metadata": {},
   "source": [
    "## `adiabatic_flame` Module"
   ]
  },
  {
   "cell_type": "code",
   "execution_count": 7,
   "metadata": {
    "execution": {
     "iopub.execute_input": "2020-12-19T06:26:22.569980Z",
     "iopub.status.busy": "2020-12-19T06:26:22.567767Z",
     "iopub.status.idle": "2020-12-19T06:26:35.093283Z",
     "shell.execute_reply": "2020-12-19T06:26:35.092723Z"
    }
   },
   "outputs": [
    {
     "name": "stdout",
     "output_type": "stream",
     "text": [
      "    output_00: mixture-averaged flamespeed = 0.201060 m/s\r\n"
     ]
    },
    {
     "name": "stdout",
     "output_type": "stream",
     "text": [
      "    output_00: multi-component flamespeed  = 0.215240 m/s\r\n"
     ]
    },
    {
     "name": "stdout",
     "output_type": "stream",
     "text": [
      "    output_01: mixture-averaged flamespeed = 0.924044 m/s\r\n"
     ]
    },
    {
     "name": "stdout",
     "output_type": "stream",
     "text": [
      "    output_01: multi-component flamespeed  = 0.934298 m/s\r\n"
     ]
    },
    {
     "name": "stdout",
     "output_type": "stream",
     "text": [
      "    output_02: mixture-averaged flamespeed = 1.735115 m/s\r\n"
     ]
    },
    {
     "name": "stdout",
     "output_type": "stream",
     "text": [
      "    output_02: multi-component flamespeed  = 1.720494 m/s\r\n"
     ]
    },
    {
     "name": "stdout",
     "output_type": "stream",
     "text": [
      "    output_03: mixture-averaged flamespeed = 2.321981 m/s\r\n"
     ]
    },
    {
     "name": "stdout",
     "output_type": "stream",
     "text": [
      "    output_03: multi-component flamespeed  = 2.289830 m/s\r\n"
     ]
    },
    {
     "name": "stdout",
     "output_type": "stream",
     "text": [
      "    output_04: mixture-averaged flamespeed = 2.716008 m/s\r\n"
     ]
    },
    {
     "name": "stdout",
     "output_type": "stream",
     "text": [
      "    output_04: multi-component flamespeed  = 2.671847 m/s\r\n"
     ]
    },
    {
     "name": "stdout",
     "output_type": "stream",
     "text": [
      "    output_05: mixture-averaged flamespeed = 2.951058 m/s\r\n"
     ]
    },
    {
     "name": "stdout",
     "output_type": "stream",
     "text": [
      "    output_05: multi-component flamespeed  = 2.899538 m/s\r\n"
     ]
    },
    {
     "name": "stdout",
     "output_type": "stream",
     "text": [
      "    output_06: mixture-averaged flamespeed = 3.051440 m/s\r\n"
     ]
    },
    {
     "name": "stdout",
     "output_type": "stream",
     "text": [
      "    output_06: multi-component flamespeed  = 2.997036 m/s\r\n"
     ]
    },
    {
     "name": "stdout",
     "output_type": "stream",
     "text": [
      "    output_07: mixture-averaged flamespeed = 3.045362 m/s\r\n"
     ]
    },
    {
     "name": "stdout",
     "output_type": "stream",
     "text": [
      "    output_07: multi-component flamespeed  = 2.992064 m/s\r\n"
     ]
    },
    {
     "name": "stdout",
     "output_type": "stream",
     "text": [
      "    output_08: mixture-averaged flamespeed = 2.973848 m/s\r\n"
     ]
    },
    {
     "name": "stdout",
     "output_type": "stream",
     "text": [
      "    output_08: multi-component flamespeed  = 2.924855 m/s\r\n"
     ]
    },
    {
     "name": "stdout",
     "output_type": "stream",
     "text": [
      "    output_09: mixture-averaged flamespeed = 2.860112 m/s\r\n"
     ]
    },
    {
     "name": "stdout",
     "output_type": "stream",
     "text": [
      "    output_09: multi-component flamespeed  = 2.817618 m/s\r\n"
     ]
    },
    {
     "name": "stdout",
     "output_type": "stream",
     "text": [
      "    output_10: mixture-averaged flamespeed = 2.726691 m/s\r\n"
     ]
    },
    {
     "name": "stdout",
     "output_type": "stream",
     "text": [
      "    output_10: multi-component flamespeed  = 2.691153 m/s\r\n"
     ]
    },
    {
     "name": "stdout",
     "output_type": "stream",
     "text": [
      "    output_11: mixture-averaged flamespeed = 2.586446 m/s\r\n"
     ]
    },
    {
     "name": "stdout",
     "output_type": "stream",
     "text": [
      "    output_11: multi-component flamespeed  = 2.558387 m/s\r\n"
     ]
    },
    {
     "name": "stdout",
     "output_type": "stream",
     "text": [
      "CPU times: user 172 ms, sys: 23.6 ms, total: 195 ms\n",
      "Wall time: 12.5 s\n"
     ]
    }
   ],
   "source": [
    "%%time\n",
    "# run parameter variation\n",
    "! ctwrap adiabatic_flame ../../yaml/adiabatic_flame.yaml --output adiabatic_flame_example"
   ]
  },
  {
   "cell_type": "code",
   "execution_count": 8,
   "metadata": {
    "execution": {
     "iopub.execute_input": "2020-12-19T06:26:35.101164Z",
     "iopub.status.busy": "2020-12-19T06:26:35.099723Z",
     "iopub.status.idle": "2020-12-19T06:26:35.246780Z",
     "shell.execute_reply": "2020-12-19T06:26:35.247437Z"
    }
   },
   "outputs": [],
   "source": [
    "# delete output file\n",
    "!rm adiabatic_flame_example.h5"
   ]
  },
  {
   "cell_type": "code",
   "execution_count": 9,
   "metadata": {
    "execution": {
     "iopub.execute_input": "2020-12-19T06:26:35.255760Z",
     "iopub.status.busy": "2020-12-19T06:26:35.253978Z",
     "iopub.status.idle": "2020-12-19T06:26:47.997811Z",
     "shell.execute_reply": "2020-12-19T06:26:47.998445Z"
    }
   },
   "outputs": [
    {
     "name": "stdout",
     "output_type": "stream",
     "text": [
      "    output_00: mixture-averaged flamespeed = 0.201060 m/s\r\n"
     ]
    },
    {
     "name": "stdout",
     "output_type": "stream",
     "text": [
      "    output_00: multi-component flamespeed  = 0.215240 m/s\r\n"
     ]
    },
    {
     "name": "stdout",
     "output_type": "stream",
     "text": [
      "    output_01: mixture-averaged flamespeed = 0.924044 m/s\r\n"
     ]
    },
    {
     "name": "stdout",
     "output_type": "stream",
     "text": [
      "    output_01: multi-component flamespeed  = 0.934298 m/s\r\n"
     ]
    },
    {
     "name": "stdout",
     "output_type": "stream",
     "text": [
      "    output_02: mixture-averaged flamespeed = 1.735115 m/s\r\n"
     ]
    },
    {
     "name": "stdout",
     "output_type": "stream",
     "text": [
      "    output_02: multi-component flamespeed  = 1.720494 m/s\r\n"
     ]
    },
    {
     "name": "stdout",
     "output_type": "stream",
     "text": [
      "    output_03: mixture-averaged flamespeed = 2.321981 m/s\r\n"
     ]
    },
    {
     "name": "stdout",
     "output_type": "stream",
     "text": [
      "    output_03: multi-component flamespeed  = 2.289830 m/s\r\n"
     ]
    },
    {
     "name": "stdout",
     "output_type": "stream",
     "text": [
      "    output_04: mixture-averaged flamespeed = 2.716008 m/s\r\n"
     ]
    },
    {
     "name": "stdout",
     "output_type": "stream",
     "text": [
      "    output_04: multi-component flamespeed  = 2.671847 m/s\r\n"
     ]
    },
    {
     "name": "stdout",
     "output_type": "stream",
     "text": [
      "    output_05: mixture-averaged flamespeed = 2.951058 m/s\r\n"
     ]
    },
    {
     "name": "stdout",
     "output_type": "stream",
     "text": [
      "    output_05: multi-component flamespeed  = 2.899538 m/s\r\n"
     ]
    },
    {
     "name": "stdout",
     "output_type": "stream",
     "text": [
      "    output_06: mixture-averaged flamespeed = 3.051440 m/s\r\n"
     ]
    },
    {
     "name": "stdout",
     "output_type": "stream",
     "text": [
      "    output_06: multi-component flamespeed  = 2.997036 m/s\r\n"
     ]
    },
    {
     "name": "stdout",
     "output_type": "stream",
     "text": [
      "    output_07: mixture-averaged flamespeed = 3.045362 m/s\r\n"
     ]
    },
    {
     "name": "stdout",
     "output_type": "stream",
     "text": [
      "    output_07: multi-component flamespeed  = 2.992064 m/s\r\n"
     ]
    },
    {
     "name": "stdout",
     "output_type": "stream",
     "text": [
      "    output_08: mixture-averaged flamespeed = 2.973848 m/s\r\n"
     ]
    },
    {
     "name": "stdout",
     "output_type": "stream",
     "text": [
      "    output_08: multi-component flamespeed  = 2.924855 m/s\r\n"
     ]
    },
    {
     "name": "stdout",
     "output_type": "stream",
     "text": [
      "    output_09: mixture-averaged flamespeed = 2.860112 m/s\r\n"
     ]
    },
    {
     "name": "stdout",
     "output_type": "stream",
     "text": [
      "    output_09: multi-component flamespeed  = 2.817618 m/s\r\n"
     ]
    },
    {
     "name": "stdout",
     "output_type": "stream",
     "text": [
      "    output_10: mixture-averaged flamespeed = 2.726691 m/s\r\n"
     ]
    },
    {
     "name": "stdout",
     "output_type": "stream",
     "text": [
      "    output_10: multi-component flamespeed  = 2.691153 m/s\r\n"
     ]
    },
    {
     "name": "stdout",
     "output_type": "stream",
     "text": [
      "    output_11: mixture-averaged flamespeed = 2.586446 m/s\r\n"
     ]
    },
    {
     "name": "stdout",
     "output_type": "stream",
     "text": [
      "    output_11: multi-component flamespeed  = 2.558387 m/s\r\n"
     ]
    },
    {
     "name": "stdout",
     "output_type": "stream",
     "text": [
      "CPU times: user 184 ms, sys: 15 ms, total: 199 ms\n",
      "Wall time: 12.7 s\n"
     ]
    }
   ],
   "source": [
    "%%time\n",
    "# run parameter variation\n",
    "! ctwrap adiabatic_flame ../../yaml/adiabatic_flame.yaml --output adiabatic_flame_example.h5 --parallel"
   ]
  },
  {
   "cell_type": "code",
   "execution_count": null,
   "metadata": {},
   "outputs": [],
   "source": []
  }
 ],
 "metadata": {
  "kernelspec": {
   "display_name": "Python 3",
   "language": "python",
   "name": "python3"
  },
  "language_info": {
   "codemirror_mode": {
    "name": "ipython",
    "version": 3
   },
   "file_extension": ".py",
   "mimetype": "text/x-python",
   "name": "python",
   "nbconvert_exporter": "python",
   "pygments_lexer": "ipython3",
   "version": "3.7.9"
  }
 },
 "nbformat": 4,
 "nbformat_minor": 2
}
