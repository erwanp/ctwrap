{
 "cells": [
  {
   "cell_type": "markdown",
   "metadata": {},
   "source": [
    "# Running Simulations from the Commandline\n",
    "\n",
    "All inputs are specified in YAML configuration files.\n",
    "\n",
    "Example makes are run on the command line within jupyter (using [system magic](https://ipython.readthedocs.io/en/stable/interactive/magics.html#magic-system) via `!`)"
   ]
  },
  {
   "cell_type": "markdown",
   "metadata": {},
   "source": [
    "## Help"
   ]
  },
  {
   "cell_type": "code",
   "execution_count": 1,
   "metadata": {
    "execution": {
     "iopub.execute_input": "2020-12-30T19:50:26.484327Z",
     "iopub.status.busy": "2020-12-30T19:50:26.483774Z",
     "iopub.status.idle": "2020-12-30T19:50:27.361285Z",
     "shell.execute_reply": "2020-12-30T19:50:27.360683Z"
    }
   },
   "outputs": [
    {
     "name": "stdout",
     "output_type": "stream",
     "text": [
      "usage: ctwrap [-h] {list,run} ...\r\n",
      "\r\n",
      "Wrapper for batch simulations (ctwrap).\r\n",
      "\r\n",
      "positional arguments:\r\n",
      "  {list,run}  ctwrap sub-commands\r\n",
      "    list      list available simulation modules\r\n",
      "    run       run simulation module\r\n",
      "\r\n",
      "optional arguments:\r\n",
      "  -h, --help  show this help message and exit\r\n"
     ]
    }
   ],
   "source": [
    "# display help \n",
    "! ctwrap --help"
   ]
  },
  {
   "cell_type": "code",
   "execution_count": 2,
   "metadata": {
    "execution": {
     "iopub.execute_input": "2020-12-30T19:50:27.367362Z",
     "iopub.status.busy": "2020-12-30T19:50:27.364764Z",
     "iopub.status.idle": "2020-12-30T19:50:28.233222Z",
     "shell.execute_reply": "2020-12-30T19:50:28.232437Z"
    }
   },
   "outputs": [
    {
     "name": "stdout",
     "output_type": "stream",
     "text": [
      "usage: ctwrap list [-h]\r\n",
      "\r\n",
      "List available simulation modules\r\n",
      "\r\n",
      "optional arguments:\r\n",
      "  -h, --help  show this help message and exit\r\n"
     ]
    }
   ],
   "source": [
    "# help of subcommand 'list'\n",
    "! ctwrap list --help"
   ]
  },
  {
   "cell_type": "code",
   "execution_count": 3,
   "metadata": {
    "execution": {
     "iopub.execute_input": "2020-12-30T19:50:28.238636Z",
     "iopub.status.busy": "2020-12-30T19:50:28.236469Z",
     "iopub.status.idle": "2020-12-30T19:50:29.097457Z",
     "shell.execute_reply": "2020-12-30T19:50:29.096983Z"
    }
   },
   "outputs": [
    {
     "name": "stdout",
     "output_type": "stream",
     "text": [
      " - equilibrium\r\n",
      " - freeflame\r\n",
      " - ignition\r\n",
      " - minimal\r\n",
      " - solution\r\n"
     ]
    }
   ],
   "source": [
    "# list available modules\n",
    "! ctwrap list"
   ]
  },
  {
   "cell_type": "code",
   "execution_count": 4,
   "metadata": {
    "execution": {
     "iopub.execute_input": "2020-12-30T19:50:29.102894Z",
     "iopub.status.busy": "2020-12-30T19:50:29.100768Z",
     "iopub.status.idle": "2020-12-30T19:50:29.969273Z",
     "shell.execute_reply": "2020-12-30T19:50:29.968792Z"
    }
   },
   "outputs": [
    {
     "name": "stdout",
     "output_type": "stream",
     "text": [
      "usage: ctwrap run [-h] [--output OUTPUT] [-v] [--parallel]\r\n",
      "                  [--strategy STRATEGY]\r\n",
      "                  module_name yaml_config\r\n",
      "\r\n",
      "Run simulation module\r\n",
      "\r\n",
      "positional arguments:\r\n",
      "  module_name          name of wrapped simulation module\r\n",
      "  yaml_config          yaml configuration file\r\n",
      "\r\n",
      "optional arguments:\r\n",
      "  -h, --help           show this help message and exit\r\n",
      "  --output OUTPUT      name of output file\r\n",
      "  -v, --verbosity      verbosity level\r\n",
      "  --parallel           run parallel calculations\r\n",
      "  --strategy STRATEGY  batch job strategy\r\n"
     ]
    }
   ],
   "source": [
    "# help of subcommand 'run'\n",
    "! ctwrap run --help"
   ]
  },
  {
   "cell_type": "markdown",
   "metadata": {},
   "source": [
    "## `minimal` Module\n",
    "\n",
    "This example uses the YAML configuration file `yaml/minimal.yaml`, which specifies \n",
    "two batch strategies (`sequence` and `matrix`)."
   ]
  },
  {
   "cell_type": "code",
   "execution_count": 5,
   "metadata": {
    "execution": {
     "iopub.execute_input": "2020-12-30T19:50:29.976281Z",
     "iopub.status.busy": "2020-12-30T19:50:29.973844Z",
     "iopub.status.idle": "2020-12-30T19:50:34.466071Z",
     "shell.execute_reply": "2020-12-30T19:50:34.466485Z"
    }
   },
   "outputs": [
    {
     "name": "stdout",
     "output_type": "stream",
     "text": [
      "    - `minimal`: sleeping for 0.1 * 1 = 0.1 seconds ...\r\n"
     ]
    },
    {
     "name": "stdout",
     "output_type": "stream",
     "text": [
      "    - `minimal`: sleeping for 0.2 * 1 = 0.2 seconds ...\r\n"
     ]
    },
    {
     "name": "stdout",
     "output_type": "stream",
     "text": [
      "    - `minimal`: sleeping for 0.3 * 1 = 0.3 seconds ...\r\n"
     ]
    },
    {
     "name": "stdout",
     "output_type": "stream",
     "text": [
      "    - `minimal`: sleeping for 0.4 * 1 = 0.4 seconds ...\r\n"
     ]
    },
    {
     "name": "stdout",
     "output_type": "stream",
     "text": [
      "    - `minimal`: sleeping for 0.5 * 1 = 0.5 seconds ...\r\n"
     ]
    },
    {
     "name": "stdout",
     "output_type": "stream",
     "text": [
      "    - `minimal`: sleeping for 0.6 * 1 = 0.6 seconds ...\r\n"
     ]
    },
    {
     "name": "stdout",
     "output_type": "stream",
     "text": [
      "    - `minimal`: sleeping for 0.7 * 1 = 0.7 seconds ...\r\n"
     ]
    },
    {
     "name": "stdout",
     "output_type": "stream",
     "text": [
      "    - `minimal`: sleeping for 0.8 * 1 = 0.8 seconds ...\r\n"
     ]
    },
    {
     "name": "stdout",
     "output_type": "stream",
     "text": [
      "CPU times: user 70.8 ms, sys: 25.9 ms, total: 96.7 ms\n",
      "Wall time: 4.49 s\n"
     ]
    }
   ],
   "source": [
    "%%time\n",
    "# run minimal module (with 'sequence' strategy)\n",
    "! ctwrap run minimal minimal.yaml --strategy sequence"
   ]
  },
  {
   "cell_type": "code",
   "execution_count": 6,
   "metadata": {
    "execution": {
     "iopub.execute_input": "2020-12-30T19:50:34.472050Z",
     "iopub.status.busy": "2020-12-30T19:50:34.470429Z",
     "iopub.status.idle": "2020-12-30T19:50:37.176598Z",
     "shell.execute_reply": "2020-12-30T19:50:37.176202Z"
    }
   },
   "outputs": [
    {
     "name": "stdout",
     "output_type": "stream",
     "text": [
      "    - `minimal`: sleeping for 0.1 * 2 = 0.2 seconds ...\r\n"
     ]
    },
    {
     "name": "stdout",
     "output_type": "stream",
     "text": [
      "    - `minimal`: sleeping for 0.1 * 1 = 0.1 seconds ...\r\n"
     ]
    },
    {
     "name": "stdout",
     "output_type": "stream",
     "text": [
      "    - `minimal`: sleeping for 0.1 * 0 = 0.0 seconds ...\r\n",
      "    - `minimal`: sleeping for 0.2 * 2 = 0.4 seconds ...\r\n"
     ]
    },
    {
     "name": "stdout",
     "output_type": "stream",
     "text": [
      "    - `minimal`: sleeping for 0.2 * 1 = 0.2 seconds ...\r\n"
     ]
    },
    {
     "name": "stdout",
     "output_type": "stream",
     "text": [
      "    - `minimal`: sleeping for 0.2 * 0 = 0.0 seconds ...\r\n",
      "    - `minimal`: sleeping for 0.3 * 2 = 0.6 seconds ...\r\n"
     ]
    },
    {
     "name": "stdout",
     "output_type": "stream",
     "text": [
      "    - `minimal`: sleeping for 0.3 * 1 = 0.3 seconds ...\r\n"
     ]
    },
    {
     "name": "stdout",
     "output_type": "stream",
     "text": [
      "    - `minimal`: sleeping for 0.3 * 0 = 0.0 seconds ...\r\n"
     ]
    },
    {
     "name": "stdout",
     "output_type": "stream",
     "text": [
      "CPU times: user 47.4 ms, sys: 7.41 ms, total: 54.8 ms\n",
      "Wall time: 2.7 s\n"
     ]
    }
   ],
   "source": [
    "%%time\n",
    "# run minimal module in parallel (with 'matrix' strategy)\n",
    "! ctwrap run minimal minimal.yaml --parallel --strategy matrix"
   ]
  },
  {
   "cell_type": "markdown",
   "metadata": {},
   "source": [
    "## `solution` Module\n",
    "\n",
    "This example uses the YAML configuration file `yaml/solution.yaml`, which queries\n",
    "a Cantera `Solution` object at a range of temperatures."
   ]
  },
  {
   "cell_type": "code",
   "execution_count": 7,
   "metadata": {
    "execution": {
     "iopub.execute_input": "2020-12-30T19:50:37.183030Z",
     "iopub.status.busy": "2020-12-30T19:50:37.180596Z",
     "iopub.status.idle": "2020-12-30T19:50:44.351758Z",
     "shell.execute_reply": "2020-12-30T19:50:44.352131Z"
    }
   },
   "outputs": [
    {
     "name": "stdout",
     "output_type": "stream",
     "text": [
      "################################################################################\r\n",
      "Running simulations: module `ctwrap.modules.solution`\r\n",
      "Conditions specified in `solution.yaml` \r\n",
      "################################################################################\r\n"
     ]
    },
    {
     "name": "stdout",
     "output_type": "stream",
     "text": [
      "Simulations for entry `state.T` with values: [300, 325, 350, 375, 400, 425, 450,\r\n",
      "475, 500, 525, 550, 575, 600, 625, 650, 675, 700, 725, 750, 775, 800, 825, 850,\r\n",
      "875, 900, 925, 950, 975, 1000, 1025, 1050, 1075, 1100, 1125, 1150, 1175, 1200,\r\n",
      "1225, 1250, 1275, 1300, 1325, 1350, 1375, 1400, 1425, 1450, 1475, 1500, 1525,\r\n",
      "1550, 1575, 1600, 1625, 1650, 1675, 1700, 1725, 1750, 1775, 1800, 1825, 1850,\r\n",
      "1875, 1900, 1925, 1950, 1975, 2000]\r\n",
      " * Starting parallel batch simulation using 1 cores\r\n",
      " * running `case_00` (Process-1)\r\n"
     ]
    },
    {
     "name": "stdout",
     "output_type": "stream",
     "text": [
      " * running `case_01` (Process-1)\r\n"
     ]
    },
    {
     "name": "stdout",
     "output_type": "stream",
     "text": [
      " * running `case_02` (Process-1)\r\n"
     ]
    },
    {
     "name": "stdout",
     "output_type": "stream",
     "text": [
      " * running `case_03` (Process-1)\r\n"
     ]
    },
    {
     "name": "stdout",
     "output_type": "stream",
     "text": [
      " * running `case_04` (Process-1)\r\n"
     ]
    },
    {
     "name": "stdout",
     "output_type": "stream",
     "text": [
      " * running `case_05` (Process-1)\r\n"
     ]
    },
    {
     "name": "stdout",
     "output_type": "stream",
     "text": [
      " * running `case_06` (Process-1)\r\n"
     ]
    },
    {
     "name": "stdout",
     "output_type": "stream",
     "text": [
      " * running `case_07` (Process-1)\r\n"
     ]
    },
    {
     "name": "stdout",
     "output_type": "stream",
     "text": [
      " * running `case_08` (Process-1)\r\n"
     ]
    },
    {
     "name": "stdout",
     "output_type": "stream",
     "text": [
      " * running `case_09` (Process-1)\r\n"
     ]
    },
    {
     "name": "stdout",
     "output_type": "stream",
     "text": [
      " * running `case_10` (Process-1)\r\n"
     ]
    },
    {
     "name": "stdout",
     "output_type": "stream",
     "text": [
      " * running `case_11` (Process-1)\r\n"
     ]
    },
    {
     "name": "stdout",
     "output_type": "stream",
     "text": [
      " * running `case_12` (Process-1)\r\n"
     ]
    },
    {
     "name": "stdout",
     "output_type": "stream",
     "text": [
      " * running `case_13` (Process-1)\r\n"
     ]
    },
    {
     "name": "stdout",
     "output_type": "stream",
     "text": [
      " * running `case_14` (Process-1)\r\n"
     ]
    },
    {
     "name": "stdout",
     "output_type": "stream",
     "text": [
      " * running `case_15` (Process-1)\r\n"
     ]
    },
    {
     "name": "stdout",
     "output_type": "stream",
     "text": [
      " * running `case_16` (Process-1)\r\n"
     ]
    },
    {
     "name": "stdout",
     "output_type": "stream",
     "text": [
      " * running `case_17` (Process-1)\r\n"
     ]
    },
    {
     "name": "stdout",
     "output_type": "stream",
     "text": [
      " * running `case_18` (Process-1)\r\n"
     ]
    },
    {
     "name": "stdout",
     "output_type": "stream",
     "text": [
      " * running `case_19` (Process-1)\r\n"
     ]
    },
    {
     "name": "stdout",
     "output_type": "stream",
     "text": [
      " * running `case_20` (Process-1)\r\n"
     ]
    },
    {
     "name": "stdout",
     "output_type": "stream",
     "text": [
      " * running `case_21` (Process-1)\r\n"
     ]
    },
    {
     "name": "stdout",
     "output_type": "stream",
     "text": [
      " * running `case_22` (Process-1)\r\n"
     ]
    },
    {
     "name": "stdout",
     "output_type": "stream",
     "text": [
      " * running `case_23` (Process-1)\r\n"
     ]
    },
    {
     "name": "stdout",
     "output_type": "stream",
     "text": [
      " * running `case_24` (Process-1)\r\n"
     ]
    },
    {
     "name": "stdout",
     "output_type": "stream",
     "text": [
      " * running `case_25` (Process-1)\r\n"
     ]
    },
    {
     "name": "stdout",
     "output_type": "stream",
     "text": [
      " * running `case_26` (Process-1)\r\n"
     ]
    },
    {
     "name": "stdout",
     "output_type": "stream",
     "text": [
      " * running `case_27` (Process-1)\r\n"
     ]
    },
    {
     "name": "stdout",
     "output_type": "stream",
     "text": [
      " * running `case_28` (Process-1)\r\n"
     ]
    },
    {
     "name": "stdout",
     "output_type": "stream",
     "text": [
      " * running `case_29` (Process-1)\r\n"
     ]
    },
    {
     "name": "stdout",
     "output_type": "stream",
     "text": [
      " * running `case_30` (Process-1)\r\n"
     ]
    },
    {
     "name": "stdout",
     "output_type": "stream",
     "text": [
      " * running `case_31` (Process-1)\r\n"
     ]
    },
    {
     "name": "stdout",
     "output_type": "stream",
     "text": [
      " * running `case_32` (Process-1)\r\n"
     ]
    },
    {
     "name": "stdout",
     "output_type": "stream",
     "text": [
      " * running `case_33` (Process-1)\r\n"
     ]
    },
    {
     "name": "stdout",
     "output_type": "stream",
     "text": [
      " * running `case_34` (Process-1)\r\n"
     ]
    },
    {
     "name": "stdout",
     "output_type": "stream",
     "text": [
      " * running `case_35` (Process-1)\r\n"
     ]
    },
    {
     "name": "stdout",
     "output_type": "stream",
     "text": [
      " * running `case_36` (Process-1)\r\n"
     ]
    },
    {
     "name": "stdout",
     "output_type": "stream",
     "text": [
      " * running `case_37` (Process-1)\r\n"
     ]
    },
    {
     "name": "stdout",
     "output_type": "stream",
     "text": [
      " * running `case_38` (Process-1)\r\n"
     ]
    },
    {
     "name": "stdout",
     "output_type": "stream",
     "text": [
      " * running `case_39` (Process-1)\r\n"
     ]
    },
    {
     "name": "stdout",
     "output_type": "stream",
     "text": [
      " * running `case_40` (Process-1)\r\n"
     ]
    },
    {
     "name": "stdout",
     "output_type": "stream",
     "text": [
      " * running `case_41` (Process-1)\r\n"
     ]
    },
    {
     "name": "stdout",
     "output_type": "stream",
     "text": [
      " * running `case_42` (Process-1)\r\n"
     ]
    },
    {
     "name": "stdout",
     "output_type": "stream",
     "text": [
      " * running `case_43` (Process-1)\r\n"
     ]
    },
    {
     "name": "stdout",
     "output_type": "stream",
     "text": [
      " * running `case_44` (Process-1)\r\n"
     ]
    },
    {
     "name": "stdout",
     "output_type": "stream",
     "text": [
      " * running `case_45` (Process-1)\r\n"
     ]
    },
    {
     "name": "stdout",
     "output_type": "stream",
     "text": [
      " * running `case_46` (Process-1)\r\n"
     ]
    },
    {
     "name": "stdout",
     "output_type": "stream",
     "text": [
      " * running `case_47` (Process-1)\r\n"
     ]
    },
    {
     "name": "stdout",
     "output_type": "stream",
     "text": [
      " * running `case_48` (Process-1)\r\n"
     ]
    },
    {
     "name": "stdout",
     "output_type": "stream",
     "text": [
      " * running `case_49` (Process-1)\r\n"
     ]
    },
    {
     "name": "stdout",
     "output_type": "stream",
     "text": [
      " * running `case_50` (Process-1)\r\n"
     ]
    },
    {
     "name": "stdout",
     "output_type": "stream",
     "text": [
      " * running `case_51` (Process-1)\r\n"
     ]
    },
    {
     "name": "stdout",
     "output_type": "stream",
     "text": [
      " * running `case_52` (Process-1)\r\n"
     ]
    },
    {
     "name": "stdout",
     "output_type": "stream",
     "text": [
      " * running `case_53` (Process-1)\r\n"
     ]
    },
    {
     "name": "stdout",
     "output_type": "stream",
     "text": [
      " * running `case_54` (Process-1)\r\n"
     ]
    },
    {
     "name": "stdout",
     "output_type": "stream",
     "text": [
      " * running `case_55` (Process-1)\r\n"
     ]
    },
    {
     "name": "stdout",
     "output_type": "stream",
     "text": [
      " * running `case_56` (Process-1)\r\n"
     ]
    },
    {
     "name": "stdout",
     "output_type": "stream",
     "text": [
      " * running `case_57` (Process-1)\r\n"
     ]
    },
    {
     "name": "stdout",
     "output_type": "stream",
     "text": [
      " * running `case_58` (Process-1)\r\n"
     ]
    },
    {
     "name": "stdout",
     "output_type": "stream",
     "text": [
      " * running `case_59` (Process-1)\r\n"
     ]
    },
    {
     "name": "stdout",
     "output_type": "stream",
     "text": [
      " * running `case_60` (Process-1)\r\n"
     ]
    },
    {
     "name": "stdout",
     "output_type": "stream",
     "text": [
      " * running `case_61` (Process-1)\r\n"
     ]
    },
    {
     "name": "stdout",
     "output_type": "stream",
     "text": [
      " * running `case_62` (Process-1)\r\n"
     ]
    },
    {
     "name": "stdout",
     "output_type": "stream",
     "text": [
      " * running `case_63` (Process-1)\r\n"
     ]
    },
    {
     "name": "stdout",
     "output_type": "stream",
     "text": [
      " * running `case_64` (Process-1)\r\n"
     ]
    },
    {
     "name": "stdout",
     "output_type": "stream",
     "text": [
      " * running `case_65` (Process-1)\r\n"
     ]
    },
    {
     "name": "stdout",
     "output_type": "stream",
     "text": [
      " * running `case_66` (Process-1)\r\n"
     ]
    },
    {
     "name": "stdout",
     "output_type": "stream",
     "text": [
      " * running `case_67` (Process-1)\r\n"
     ]
    },
    {
     "name": "stdout",
     "output_type": "stream",
     "text": [
      " * running `case_68` (Process-1)\r\n"
     ]
    },
    {
     "name": "stdout",
     "output_type": "stream",
     "text": [
      "CPU times: user 115 ms, sys: 19.1 ms, total: 134 ms\n",
      "Wall time: 7.17 s\n"
     ]
    }
   ],
   "source": [
    "%%time\n",
    "# run parameter variation using multiple cores (if made available)\n",
    "! ctwrap run solution solution.yaml -v --parallel --output solution_example.csv"
   ]
  },
  {
   "cell_type": "code",
   "execution_count": 8,
   "metadata": {
    "execution": {
     "iopub.execute_input": "2020-12-30T19:50:44.356865Z",
     "iopub.status.busy": "2020-12-30T19:50:44.355426Z",
     "iopub.status.idle": "2020-12-30T19:50:44.496461Z",
     "shell.execute_reply": "2020-12-30T19:50:44.495690Z"
    }
   },
   "outputs": [],
   "source": [
    "# delete output file\n",
    "! rm solution_example.csv"
   ]
  },
  {
   "cell_type": "code",
   "execution_count": null,
   "metadata": {},
   "outputs": [],
   "source": []
  }
 ],
 "metadata": {
  "kernelspec": {
   "display_name": "Python 3",
   "language": "python",
   "name": "python3"
  },
  "language_info": {
   "codemirror_mode": {
    "name": "ipython",
    "version": 3
   },
   "file_extension": ".py",
   "mimetype": "text/x-python",
   "name": "python",
   "nbconvert_exporter": "python",
   "pygments_lexer": "ipython3",
   "version": "3.7.9"
  }
 },
 "nbformat": 4,
 "nbformat_minor": 2
}
