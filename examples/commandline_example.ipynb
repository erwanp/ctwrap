{
 "cells": [
  {
   "cell_type": "markdown",
   "metadata": {},
   "source": [
    "# Running Simulations from the Commandline\n",
    "\n",
    "All inputs are specified in YAML configuration files.\n",
    "\n",
    "Example makes are run on the command line within jupyter (using [system magic](https://ipython.readthedocs.io/en/stable/interactive/magics.html#magic-system) via `!`)"
   ]
  },
  {
   "cell_type": "markdown",
   "metadata": {},
   "source": [
    "## Help"
   ]
  },
  {
   "cell_type": "code",
   "execution_count": 1,
   "metadata": {
    "execution": {
     "iopub.execute_input": "2020-12-20T04:43:41.428080Z",
     "iopub.status.busy": "2020-12-20T04:43:41.427583Z",
     "iopub.status.idle": "2020-12-20T04:43:42.214484Z",
     "shell.execute_reply": "2020-12-20T04:43:42.213322Z"
    }
   },
   "outputs": [
    {
     "name": "stdout",
     "output_type": "stream",
     "text": [
      "usage: ctwrap [-h] [--output OUTPUT] [-v] [--parallel]\r\n",
      "              [--strategy {sequence,matrix}]\r\n",
      "              module_name yaml_config\r\n",
      "\r\n",
      "Wrapper for batch simulations (ctwrap).\r\n",
      "\r\n",
      "positional arguments:\r\n",
      "  module_name           name of wrapped simulation module\r\n",
      "  yaml_config           yaml configuration file\r\n",
      "\r\n",
      "optional arguments:\r\n",
      "  -h, --help            show this help message and exit\r\n",
      "  --output OUTPUT       name of output file\r\n",
      "  -v, --verbosity       verbosity level\r\n",
      "  --parallel            run parallel calculations\r\n",
      "  --strategy {sequence,matrix}\r\n",
      "                        batch job strategy\r\n"
     ]
    }
   ],
   "source": [
    "# display help \n",
    "! ctwrap --help"
   ]
  },
  {
   "cell_type": "markdown",
   "metadata": {},
   "source": [
    "## `minimal` Module"
   ]
  },
  {
   "cell_type": "code",
   "execution_count": 2,
   "metadata": {
    "execution": {
     "iopub.execute_input": "2020-12-20T04:43:42.223386Z",
     "iopub.status.busy": "2020-12-20T04:43:42.221509Z",
     "iopub.status.idle": "2020-12-20T04:43:46.622620Z",
     "shell.execute_reply": "2020-12-20T04:43:46.623137Z"
    }
   },
   "outputs": [
    {
     "name": "stdout",
     "output_type": "stream",
     "text": [
      "    - `minimal`: sleeping for 0.1 * 1 = 0.1 seconds ...\r\n"
     ]
    },
    {
     "name": "stdout",
     "output_type": "stream",
     "text": [
      "    - `minimal`: sleeping for 0.2 * 1 = 0.2 seconds ...\r\n"
     ]
    },
    {
     "name": "stdout",
     "output_type": "stream",
     "text": [
      "    - `minimal`: sleeping for 0.3 * 1 = 0.3 seconds ...\r\n"
     ]
    },
    {
     "name": "stdout",
     "output_type": "stream",
     "text": [
      "    - `minimal`: sleeping for 0.4 * 1 = 0.4 seconds ...\r\n"
     ]
    },
    {
     "name": "stdout",
     "output_type": "stream",
     "text": [
      "    - `minimal`: sleeping for 0.5 * 1 = 0.5 seconds ...\r\n"
     ]
    },
    {
     "name": "stdout",
     "output_type": "stream",
     "text": [
      "    - `minimal`: sleeping for 0.6 * 1 = 0.6 seconds ...\r\n"
     ]
    },
    {
     "name": "stdout",
     "output_type": "stream",
     "text": [
      "    - `minimal`: sleeping for 0.7 * 1 = 0.7 seconds ...\r\n"
     ]
    },
    {
     "name": "stdout",
     "output_type": "stream",
     "text": [
      "    - `minimal`: sleeping for 0.8 * 1 = 0.8 seconds ...\r\n"
     ]
    },
    {
     "name": "stdout",
     "output_type": "stream",
     "text": [
      "CPU times: user 90.8 ms, sys: 20.6 ms, total: 111 ms\n",
      "Wall time: 4.4 s\n"
     ]
    }
   ],
   "source": [
    "%%time\n",
    "# run minimal module (with 'sequence' strategy)\n",
    "! ctwrap minimal ../../yaml/minimal.yaml --strategy sequence"
   ]
  },
  {
   "cell_type": "code",
   "execution_count": 3,
   "metadata": {
    "execution": {
     "iopub.execute_input": "2020-12-20T04:43:46.629457Z",
     "iopub.status.busy": "2020-12-20T04:43:46.627575Z",
     "iopub.status.idle": "2020-12-20T04:43:51.038469Z",
     "shell.execute_reply": "2020-12-20T04:43:51.037907Z"
    }
   },
   "outputs": [
    {
     "name": "stdout",
     "output_type": "stream",
     "text": [
      "    - `minimal`: sleeping for 0.1 * 1 = 0.1 seconds ...\r\n"
     ]
    },
    {
     "name": "stdout",
     "output_type": "stream",
     "text": [
      "    - `minimal`: sleeping for 0.2 * 1 = 0.2 seconds ...\r\n"
     ]
    },
    {
     "name": "stdout",
     "output_type": "stream",
     "text": [
      "    - `minimal`: sleeping for 0.3 * 1 = 0.3 seconds ...\r\n"
     ]
    },
    {
     "name": "stdout",
     "output_type": "stream",
     "text": [
      "    - `minimal`: sleeping for 0.4 * 1 = 0.4 seconds ...\r\n"
     ]
    },
    {
     "name": "stdout",
     "output_type": "stream",
     "text": [
      "    - `minimal`: sleeping for 0.5 * 1 = 0.5 seconds ...\r\n"
     ]
    },
    {
     "name": "stdout",
     "output_type": "stream",
     "text": [
      "    - `minimal`: sleeping for 0.6 * 1 = 0.6 seconds ...\r\n"
     ]
    },
    {
     "name": "stdout",
     "output_type": "stream",
     "text": [
      "    - `minimal`: sleeping for 0.7 * 1 = 0.7 seconds ...\r\n"
     ]
    },
    {
     "name": "stdout",
     "output_type": "stream",
     "text": [
      "    - `minimal`: sleeping for 0.8 * 1 = 0.8 seconds ...\r\n"
     ]
    },
    {
     "name": "stdout",
     "output_type": "stream",
     "text": [
      "CPU times: user 102 ms, sys: 14 ms, total: 116 ms\n",
      "Wall time: 4.41 s\n"
     ]
    }
   ],
   "source": [
    "%%time\n",
    "# run minimal module (with 'sequence' strategy)\n",
    "! ctwrap minimal ../../yaml/minimal.yaml --parallel --strategy sequence"
   ]
  },
  {
   "cell_type": "markdown",
   "metadata": {},
   "source": [
    "## `ignition` Module"
   ]
  },
  {
   "cell_type": "code",
   "execution_count": 4,
   "metadata": {
    "execution": {
     "iopub.execute_input": "2020-12-20T04:43:51.046839Z",
     "iopub.status.busy": "2020-12-20T04:43:51.044605Z",
     "iopub.status.idle": "2020-12-20T04:43:52.126114Z",
     "shell.execute_reply": "2020-12-20T04:43:52.126631Z"
    }
   },
   "outputs": [
    {
     "name": "stdout",
     "output_type": "stream",
     "text": [
      "################################################################################\r\n",
      "Running simulations: module `ctwrap.modules.ignition`\r\n",
      "Conditions specified in `../../yaml/ignition.yaml` \r\n",
      "################################################################################\r\n",
      "Simulations for entry `initial.phi` with values: [0.4, 0.6, 0.8, 1.0, 1.2, 1.4, 1.6, 1.8]\r\n",
      " * processing `initial.phi_0.4`\r\n"
     ]
    },
    {
     "name": "stdout",
     "output_type": "stream",
     "text": [
      " * processing `initial.phi_0.6`\r\n"
     ]
    },
    {
     "name": "stdout",
     "output_type": "stream",
     "text": [
      " * processing `initial.phi_0.8`\r\n",
      " * processing `initial.phi_1.0`\r\n"
     ]
    },
    {
     "name": "stdout",
     "output_type": "stream",
     "text": [
      " * processing `initial.phi_1.2`\r\n"
     ]
    },
    {
     "name": "stdout",
     "output_type": "stream",
     "text": [
      " * processing `initial.phi_1.4`\r\n",
      " * processing `initial.phi_1.6`\r\n"
     ]
    },
    {
     "name": "stdout",
     "output_type": "stream",
     "text": [
      " * processing `initial.phi_1.8`\r\n"
     ]
    },
    {
     "name": "stdout",
     "output_type": "stream",
     "text": [
      "CPU times: user 23.7 ms, sys: 343 µs, total: 24 ms\n",
      "Wall time: 1.08 s\n"
     ]
    }
   ],
   "source": [
    "%%time\n",
    "# run parameter variation\n",
    "! ctwrap ignition ../../yaml/ignition.yaml -v --output ignition_example.h5"
   ]
  },
  {
   "cell_type": "code",
   "execution_count": 5,
   "metadata": {
    "execution": {
     "iopub.execute_input": "2020-12-20T04:43:52.132772Z",
     "iopub.status.busy": "2020-12-20T04:43:52.132266Z",
     "iopub.status.idle": "2020-12-20T04:43:52.279482Z",
     "shell.execute_reply": "2020-12-20T04:43:52.278960Z"
    }
   },
   "outputs": [],
   "source": [
    "# delete output file\n",
    "! rm ignition_example.h5"
   ]
  },
  {
   "cell_type": "code",
   "execution_count": 6,
   "metadata": {
    "execution": {
     "iopub.execute_input": "2020-12-20T04:43:52.287102Z",
     "iopub.status.busy": "2020-12-20T04:43:52.286574Z",
     "iopub.status.idle": "2020-12-20T04:43:53.386374Z",
     "shell.execute_reply": "2020-12-20T04:43:53.385440Z"
    }
   },
   "outputs": [
    {
     "name": "stdout",
     "output_type": "stream",
     "text": [
      "################################################################################\r\n",
      "Running simulations: module `ctwrap.modules.ignition`\r\n",
      "Conditions specified in `../../yaml/ignition.yaml` \r\n",
      "################################################################################\r\n",
      "Simulations for entry `initial.phi` with values: [0.4, 0.6, 0.8, 1.0, 1.2, 1.4, 1.6, 1.8]\r\n",
      " * running simulation using 1 cores\r\n",
      " * processing `initial.phi_0.4` (Process-1)\r\n"
     ]
    },
    {
     "name": "stdout",
     "output_type": "stream",
     "text": [
      " * processing `initial.phi_0.6` (Process-1)\r\n"
     ]
    },
    {
     "name": "stdout",
     "output_type": "stream",
     "text": [
      " * processing `initial.phi_0.8` (Process-1)\r\n"
     ]
    },
    {
     "name": "stdout",
     "output_type": "stream",
     "text": [
      " * processing `initial.phi_1.0` (Process-1)\r\n",
      " * processing `initial.phi_1.2` (Process-1)\r\n"
     ]
    },
    {
     "name": "stdout",
     "output_type": "stream",
     "text": [
      " * processing `initial.phi_1.4` (Process-1)\r\n"
     ]
    },
    {
     "name": "stdout",
     "output_type": "stream",
     "text": [
      " * processing `initial.phi_1.6` (Process-1)\r\n",
      " * processing `initial.phi_1.8` (Process-1)\r\n"
     ]
    },
    {
     "name": "stdout",
     "output_type": "stream",
     "text": [
      "CPU times: user 20.5 ms, sys: 4.14 ms, total: 24.6 ms\n",
      "Wall time: 1.1 s\n"
     ]
    }
   ],
   "source": [
    "%%time\n",
    "# run parameter variation\n",
    "! ctwrap ignition ../../yaml/ignition.yaml -v --output ignition_example.h5 --parallel"
   ]
  },
  {
   "cell_type": "markdown",
   "metadata": {},
   "source": [
    "## `adiabatic_flame` Module"
   ]
  },
  {
   "cell_type": "code",
   "execution_count": 7,
   "metadata": {
    "execution": {
     "iopub.execute_input": "2020-12-20T04:43:53.393567Z",
     "iopub.status.busy": "2020-12-20T04:43:53.390903Z",
     "iopub.status.idle": "2020-12-20T04:44:05.245235Z",
     "shell.execute_reply": "2020-12-20T04:44:05.244780Z"
    }
   },
   "outputs": [
    {
     "name": "stdout",
     "output_type": "stream",
     "text": [
      "    output_00: mixture-averaged flamespeed = 0.201060 m/s\r\n"
     ]
    },
    {
     "name": "stdout",
     "output_type": "stream",
     "text": [
      "    output_00: multi-component flamespeed  = 0.215240 m/s\r\n"
     ]
    },
    {
     "name": "stdout",
     "output_type": "stream",
     "text": [
      "    output_01: mixture-averaged flamespeed = 0.924044 m/s\r\n"
     ]
    },
    {
     "name": "stdout",
     "output_type": "stream",
     "text": [
      "    output_01: multi-component flamespeed  = 0.934298 m/s\r\n"
     ]
    },
    {
     "name": "stdout",
     "output_type": "stream",
     "text": [
      "    output_02: mixture-averaged flamespeed = 1.735115 m/s\r\n"
     ]
    },
    {
     "name": "stdout",
     "output_type": "stream",
     "text": [
      "    output_02: multi-component flamespeed  = 1.720494 m/s\r\n"
     ]
    },
    {
     "name": "stdout",
     "output_type": "stream",
     "text": [
      "    output_03: mixture-averaged flamespeed = 2.321981 m/s\r\n"
     ]
    },
    {
     "name": "stdout",
     "output_type": "stream",
     "text": [
      "    output_03: multi-component flamespeed  = 2.289830 m/s\r\n"
     ]
    },
    {
     "name": "stdout",
     "output_type": "stream",
     "text": [
      "    output_04: mixture-averaged flamespeed = 2.716008 m/s\r\n"
     ]
    },
    {
     "name": "stdout",
     "output_type": "stream",
     "text": [
      "    output_04: multi-component flamespeed  = 2.671847 m/s\r\n"
     ]
    },
    {
     "name": "stdout",
     "output_type": "stream",
     "text": [
      "    output_05: mixture-averaged flamespeed = 2.951058 m/s\r\n"
     ]
    },
    {
     "name": "stdout",
     "output_type": "stream",
     "text": [
      "    output_05: multi-component flamespeed  = 2.899538 m/s\r\n"
     ]
    },
    {
     "name": "stdout",
     "output_type": "stream",
     "text": [
      "    output_06: mixture-averaged flamespeed = 3.051440 m/s\r\n"
     ]
    },
    {
     "name": "stdout",
     "output_type": "stream",
     "text": [
      "    output_06: multi-component flamespeed  = 2.997036 m/s\r\n"
     ]
    },
    {
     "name": "stdout",
     "output_type": "stream",
     "text": [
      "    output_07: mixture-averaged flamespeed = 3.045362 m/s\r\n"
     ]
    },
    {
     "name": "stdout",
     "output_type": "stream",
     "text": [
      "    output_07: multi-component flamespeed  = 2.992064 m/s\r\n"
     ]
    },
    {
     "name": "stdout",
     "output_type": "stream",
     "text": [
      "    output_08: mixture-averaged flamespeed = 2.973848 m/s\r\n"
     ]
    },
    {
     "name": "stdout",
     "output_type": "stream",
     "text": [
      "    output_08: multi-component flamespeed  = 2.924855 m/s\r\n"
     ]
    },
    {
     "name": "stdout",
     "output_type": "stream",
     "text": [
      "    output_09: mixture-averaged flamespeed = 2.860112 m/s\r\n"
     ]
    },
    {
     "name": "stdout",
     "output_type": "stream",
     "text": [
      "    output_09: multi-component flamespeed  = 2.817618 m/s\r\n"
     ]
    },
    {
     "name": "stdout",
     "output_type": "stream",
     "text": [
      "    output_10: mixture-averaged flamespeed = 2.726691 m/s\r\n"
     ]
    },
    {
     "name": "stdout",
     "output_type": "stream",
     "text": [
      "    output_10: multi-component flamespeed  = 2.691153 m/s\r\n"
     ]
    },
    {
     "name": "stdout",
     "output_type": "stream",
     "text": [
      "    output_11: mixture-averaged flamespeed = 2.586446 m/s\r\n"
     ]
    },
    {
     "name": "stdout",
     "output_type": "stream",
     "text": [
      "    output_11: multi-component flamespeed  = 2.558387 m/s\r\n"
     ]
    },
    {
     "name": "stdout",
     "output_type": "stream",
     "text": [
      "CPU times: user 188 ms, sys: 37.8 ms, total: 226 ms\n",
      "Wall time: 11.8 s\n"
     ]
    }
   ],
   "source": [
    "%%time\n",
    "# run parameter variation\n",
    "! ctwrap adiabatic_flame ../../yaml/adiabatic_flame.yaml --output adiabatic_flame_example"
   ]
  },
  {
   "cell_type": "code",
   "execution_count": 8,
   "metadata": {
    "execution": {
     "iopub.execute_input": "2020-12-20T04:44:05.251694Z",
     "iopub.status.busy": "2020-12-20T04:44:05.248963Z",
     "iopub.status.idle": "2020-12-20T04:44:05.398646Z",
     "shell.execute_reply": "2020-12-20T04:44:05.399154Z"
    }
   },
   "outputs": [],
   "source": [
    "# delete output file\n",
    "!rm adiabatic_flame_example.h5"
   ]
  },
  {
   "cell_type": "code",
   "execution_count": 9,
   "metadata": {
    "execution": {
     "iopub.execute_input": "2020-12-20T04:44:05.406139Z",
     "iopub.status.busy": "2020-12-20T04:44:05.405451Z",
     "iopub.status.idle": "2020-12-20T04:44:17.237601Z",
     "shell.execute_reply": "2020-12-20T04:44:17.238336Z"
    }
   },
   "outputs": [
    {
     "name": "stdout",
     "output_type": "stream",
     "text": [
      "    output_00: mixture-averaged flamespeed = 0.201060 m/s\r\n"
     ]
    },
    {
     "name": "stdout",
     "output_type": "stream",
     "text": [
      "    output_00: multi-component flamespeed  = 0.215240 m/s\r\n"
     ]
    },
    {
     "name": "stdout",
     "output_type": "stream",
     "text": [
      "    output_01: mixture-averaged flamespeed = 0.924044 m/s\r\n"
     ]
    },
    {
     "name": "stdout",
     "output_type": "stream",
     "text": [
      "    output_01: multi-component flamespeed  = 0.934298 m/s\r\n"
     ]
    },
    {
     "name": "stdout",
     "output_type": "stream",
     "text": [
      "    output_02: mixture-averaged flamespeed = 1.735115 m/s\r\n"
     ]
    },
    {
     "name": "stdout",
     "output_type": "stream",
     "text": [
      "    output_02: multi-component flamespeed  = 1.720494 m/s\r\n"
     ]
    },
    {
     "name": "stdout",
     "output_type": "stream",
     "text": [
      "    output_03: mixture-averaged flamespeed = 2.321981 m/s\r\n"
     ]
    },
    {
     "name": "stdout",
     "output_type": "stream",
     "text": [
      "    output_03: multi-component flamespeed  = 2.289830 m/s\r\n"
     ]
    },
    {
     "name": "stdout",
     "output_type": "stream",
     "text": [
      "    output_04: mixture-averaged flamespeed = 2.716008 m/s\r\n"
     ]
    },
    {
     "name": "stdout",
     "output_type": "stream",
     "text": [
      "    output_04: multi-component flamespeed  = 2.671847 m/s\r\n"
     ]
    },
    {
     "name": "stdout",
     "output_type": "stream",
     "text": [
      "    output_05: mixture-averaged flamespeed = 2.951058 m/s\r\n"
     ]
    },
    {
     "name": "stdout",
     "output_type": "stream",
     "text": [
      "    output_05: multi-component flamespeed  = 2.899538 m/s\r\n"
     ]
    },
    {
     "name": "stdout",
     "output_type": "stream",
     "text": [
      "    output_06: mixture-averaged flamespeed = 3.051440 m/s\r\n"
     ]
    },
    {
     "name": "stdout",
     "output_type": "stream",
     "text": [
      "    output_06: multi-component flamespeed  = 2.997036 m/s\r\n"
     ]
    },
    {
     "name": "stdout",
     "output_type": "stream",
     "text": [
      "    output_07: mixture-averaged flamespeed = 3.045362 m/s\r\n"
     ]
    },
    {
     "name": "stdout",
     "output_type": "stream",
     "text": [
      "    output_07: multi-component flamespeed  = 2.992064 m/s\r\n"
     ]
    },
    {
     "name": "stdout",
     "output_type": "stream",
     "text": [
      "    output_08: mixture-averaged flamespeed = 2.973848 m/s\r\n"
     ]
    },
    {
     "name": "stdout",
     "output_type": "stream",
     "text": [
      "    output_08: multi-component flamespeed  = 2.924855 m/s\r\n"
     ]
    },
    {
     "name": "stdout",
     "output_type": "stream",
     "text": [
      "    output_09: mixture-averaged flamespeed = 2.860112 m/s\r\n"
     ]
    },
    {
     "name": "stdout",
     "output_type": "stream",
     "text": [
      "    output_09: multi-component flamespeed  = 2.817618 m/s\r\n"
     ]
    },
    {
     "name": "stdout",
     "output_type": "stream",
     "text": [
      "    output_10: mixture-averaged flamespeed = 2.726691 m/s\r\n"
     ]
    },
    {
     "name": "stdout",
     "output_type": "stream",
     "text": [
      "    output_10: multi-component flamespeed  = 2.691153 m/s\r\n"
     ]
    },
    {
     "name": "stdout",
     "output_type": "stream",
     "text": [
      "    output_11: mixture-averaged flamespeed = 2.586446 m/s\r\n"
     ]
    },
    {
     "name": "stdout",
     "output_type": "stream",
     "text": [
      "    output_11: multi-component flamespeed  = 2.558387 m/s\r\n"
     ]
    },
    {
     "name": "stdout",
     "output_type": "stream",
     "text": [
      "CPU times: user 192 ms, sys: 39.9 ms, total: 232 ms\n",
      "Wall time: 11.8 s\n"
     ]
    }
   ],
   "source": [
    "%%time\n",
    "# run parameter variation\n",
    "! ctwrap adiabatic_flame ../../yaml/adiabatic_flame.yaml --output adiabatic_flame_example.h5 --parallel"
   ]
  },
  {
   "cell_type": "code",
   "execution_count": null,
   "metadata": {},
   "outputs": [],
   "source": []
  }
 ],
 "metadata": {
  "kernelspec": {
   "display_name": "Python 3",
   "language": "python",
   "name": "python3"
  },
  "language_info": {
   "codemirror_mode": {
    "name": "ipython",
    "version": 3
   },
   "file_extension": ".py",
   "mimetype": "text/x-python",
   "name": "python",
   "nbconvert_exporter": "python",
   "pygments_lexer": "ipython3",
   "version": "3.7.9"
  }
 },
 "nbformat": 4,
 "nbformat_minor": 2
}
