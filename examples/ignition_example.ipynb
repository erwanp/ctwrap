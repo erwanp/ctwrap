{
 "cells": [
  {
   "cell_type": "markdown",
   "metadata": {},
   "source": [
    "# Ignition Example\n",
    "\n",
    "This example uses `ctwrap` for ideal gas constant pressure reactor simulations (i.e. ignition) defined by the simulation module `ignition` (`ctwrap.modules.ignition`)."
   ]
  },
  {
   "cell_type": "markdown",
   "metadata": {},
   "source": [
    "## 1. Function/Class Definitions"
   ]
  },
  {
   "cell_type": "code",
   "execution_count": 1,
   "metadata": {},
   "outputs": [],
   "source": [
    "import matplotlib.pyplot as plt\n",
    "import matplotlib as mpl\n",
    "import h5py\n",
    "import json\n",
    "col = mpl.rcParams['axes.prop_cycle'].by_key()['color']"
   ]
  },
  {
   "cell_type": "code",
   "execution_count": 2,
   "metadata": {},
   "outputs": [
    {
     "data": {
      "text/plain": [
       "'0.2.0b'"
      ]
     },
     "execution_count": 2,
     "metadata": {},
     "output_type": "execute_result"
    }
   ],
   "source": [
    "import ctwrap as cw\n",
    "cw.__version__"
   ]
  },
  {
   "cell_type": "markdown",
   "metadata": {},
   "source": [
    "## 2. Simulations"
   ]
  },
  {
   "cell_type": "markdown",
   "metadata": {},
   "source": [
    "### 2.1 Create Simulation object\n",
    "\n",
    "Uses a module in the `modules` folder. Modules do not have to depend on `ctwrap`."
   ]
  },
  {
   "cell_type": "code",
   "execution_count": 3,
   "metadata": {},
   "outputs": [
    {
     "data": {
      "text/plain": [
       "<ctwrap.simulation.Ignition at 0x7fea544ea3d0>"
      ]
     },
     "execution_count": 3,
     "metadata": {},
     "output_type": "execute_result"
    }
   ],
   "source": [
    "sim = cw.Simulation.from_module(cw.modules.ignition)\n",
    "sim"
   ]
  },
  {
   "cell_type": "markdown",
   "metadata": {},
   "source": [
    "### 2.2 Create Simulation Handler\n",
    "\n",
    "Parameters are specified via YAML file"
   ]
  },
  {
   "cell_type": "code",
   "execution_count": 4,
   "metadata": {},
   "outputs": [
    {
     "name": "stdout",
     "output_type": "stream",
     "text": [
      "Simulations for entry `initial.phi` with values: [0.4, 0.6, 0.8, 1.0, 1.2, 1.4, 1.6, 1.8]\n"
     ]
    },
    {
     "data": {
      "text/plain": [
       "<ctwrap.simulation.SimulationHandler at 0x7fea544eaed0>"
      ]
     },
     "execution_count": 4,
     "metadata": {},
     "output_type": "execute_result"
    }
   ],
   "source": [
    "# create variation object\n",
    "fname = '../../yaml/ignition.yaml'\n",
    "sh = cw.SimulationHandler.from_yaml(fname, verbosity=1)\n",
    "sh"
   ]
  },
  {
   "cell_type": "markdown",
   "metadata": {},
   "source": [
    "### 2.3 Run parallel simulation"
   ]
  },
  {
   "cell_type": "code",
   "execution_count": 5,
   "metadata": {},
   "outputs": [
    {
     "name": "stdout",
     "output_type": "stream",
     "text": [
      " * running simulation using 4 cores\n",
      " * processing `initial.phi_0.4` (Process-1)\n",
      " * processing `initial.phi_0.6` (Process-2)\n",
      " * processing `initial.phi_0.8` (Process-3)\n",
      " * processing `initial.phi_1.0` (Process-4)\n",
      " * processing `initial.phi_1.2` (Process-3)\n",
      " * processing `initial.phi_1.4` (Process-2)\n",
      " * processing `initial.phi_1.6` (Process-1)\n",
      " * processing `initial.phi_1.8` (Process-4)\n",
      "CPU times: user 27.3 ms, sys: 29.8 ms, total: 57.1 ms\n",
      "Wall time: 215 ms\n"
     ]
    },
    {
     "data": {
      "text/plain": [
       "True"
      ]
     },
     "execution_count": 5,
     "metadata": {},
     "output_type": "execute_result"
    }
   ],
   "source": [
    "%%time\n",
    "sh.run_parallel(sim)"
   ]
  },
  {
   "cell_type": "markdown",
   "metadata": {},
   "source": [
    "## 3. Create graphical output"
   ]
  },
  {
   "cell_type": "markdown",
   "metadata": {},
   "source": [
    "### 3.1 Load data from file"
   ]
  },
  {
   "cell_type": "code",
   "execution_count": 6,
   "metadata": {},
   "outputs": [],
   "source": [
    "data = h5py.File(sh.output_name, 'r')"
   ]
  },
  {
   "cell_type": "code",
   "execution_count": 7,
   "metadata": {},
   "outputs": [
    {
     "data": {
      "text/plain": [
       "<KeysViewHDF5 ['output_00', 'output_01', 'output_02', 'output_03', 'output_04', 'output_05', 'output_06', 'output_07']>"
      ]
     },
     "execution_count": 7,
     "metadata": {},
     "output_type": "execute_result"
    }
   ],
   "source": [
    "data.keys()"
   ]
  },
  {
   "cell_type": "code",
   "execution_count": 8,
   "metadata": {},
   "outputs": [
    {
     "data": {
      "text/plain": [
       "<KeysViewHDF5 ['defaults', 'strategy']>"
      ]
     },
     "execution_count": 8,
     "metadata": {},
     "output_type": "execute_result"
    }
   ],
   "source": [
    "data.attrs.keys()"
   ]
  },
  {
   "cell_type": "code",
   "execution_count": 9,
   "metadata": {},
   "outputs": [
    {
     "data": {
      "text/plain": [
       "{'sequence': {'initial.phi': [0.4, 0.6, 0.8, 1.0, 1.2, 1.4, 1.6, 1.8]},\n",
       " 'tasks': ['initial.phi_0.4',\n",
       "  'initial.phi_0.6',\n",
       "  'initial.phi_0.8',\n",
       "  'initial.phi_1.0',\n",
       "  'initial.phi_1.2',\n",
       "  'initial.phi_1.4',\n",
       "  'initial.phi_1.6',\n",
       "  'initial.phi_1.8']}"
      ]
     },
     "execution_count": 9,
     "metadata": {},
     "output_type": "execute_result"
    }
   ],
   "source": [
    "var = json.loads(data.attrs['strategy'])\n",
    "var"
   ]
  },
  {
   "cell_type": "code",
   "execution_count": 10,
   "metadata": {},
   "outputs": [
    {
     "data": {
      "text/plain": [
       "{'initial': {'T': 1000.0,\n",
       "  'P': 101325.0,\n",
       "  'phi': 1.0,\n",
       "  'fuel': 'H2',\n",
       "  'oxidizer': 'O2:1,AR:3.76'},\n",
       " 'chemistry': {'mechanism': 'h2o2.yaml'},\n",
       " 'simulation': {'delta_t': 1e-05,\n",
       "  'n_points': 500,\n",
       "  'atol': 1e-15,\n",
       "  'rtol': 1e-09}}"
      ]
     },
     "execution_count": 10,
     "metadata": {},
     "output_type": "execute_result"
    }
   ],
   "source": [
    "default = json.loads(data.attrs['defaults'])\n",
    "default"
   ]
  },
  {
   "cell_type": "code",
   "execution_count": 11,
   "metadata": {},
   "outputs": [
    {
     "data": {
      "text/plain": [
       "[0.4, 0.6, 0.8, 1.0, 1.2, 1.4, 1.6, 1.8]"
      ]
     },
     "execution_count": 11,
     "metadata": {},
     "output_type": "execute_result"
    }
   ],
   "source": [
    "phi = var['sequence'].get('initial.phi')\n",
    "phi"
   ]
  },
  {
   "cell_type": "markdown",
   "metadata": {},
   "source": [
    "### 3.2 Plot\n",
    "\n",
    "Display time histories for gas temperature."
   ]
  },
  {
   "cell_type": "code",
   "execution_count": 12,
   "metadata": {},
   "outputs": [
    {
     "data": {
      "image/png": "[encoded data removed]",
      "text/plain": [
       "<Figure size 576x576 with 1 Axes>"
      ]
     },
     "metadata": {
      "needs_background": "light"
     },
     "output_type": "display_data"
    }
   ],
   "source": [
    "# create figure and adjust size\n",
    "fig, ax = plt.subplots(1) \n",
    "fig.set_size_inches(8.,8.)\n",
    "\n",
    "# plot results\n",
    "for f, key in enumerate(data):\n",
    "    df = data[key]\n",
    "    ax.semilogx(1000*df['t'][:],df['T'][:],color=col[f],label=phi[f]) \n",
    "\n",
    "# add title/axis labels\n",
    "ax.set_title(r'IdealGasConstPressure Reactor')\n",
    "ax.set_xlabel('Time (ms)')\n",
    "ax.set_ylabel('Temperature (K)')\n",
    "\n",
    "# add legend\n",
    "leg = ax.legend(loc='upper left',#prop={'size':11},\n",
    "                title='Equivalence ratio') # % mech)\n",
    "leg.draw_frame(False) \n",
    "\n",
    "# show and save\n",
    "plt.show()"
   ]
  },
  {
   "cell_type": "code",
   "execution_count": null,
   "metadata": {},
   "outputs": [],
   "source": []
  }
 ],
 "metadata": {
  "kernelspec": {
   "display_name": "Python 3",
   "language": "python",
   "name": "python3"
  },
  "language_info": {
   "codemirror_mode": {
    "name": "ipython",
    "version": 3
   },
   "file_extension": ".py",
   "mimetype": "text/x-python",
   "name": "python",
   "nbconvert_exporter": "python",
   "pygments_lexer": "ipython3",
   "version": "3.7.9"
  }
 },
 "nbformat": 4,
 "nbformat_minor": 2
}
