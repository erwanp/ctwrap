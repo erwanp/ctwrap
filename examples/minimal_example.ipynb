{
 "cells": [
  {
   "cell_type": "markdown",
   "metadata": {},
   "source": [
    "# Minimal Example\n",
    "Testing basic functions of the ctwrap package using the minimal module \n",
    "(which does not use Cantera, but just 'sleeps' for a specified amount of seconds)."
   ]
  },
  {
   "cell_type": "markdown",
   "metadata": {},
   "source": [
    "### Set up Simulation object\n",
    "\n",
    "The `Simulation` object wraps the module, which can be run with default arguments."
   ]
  },
  {
   "cell_type": "code",
   "execution_count": 1,
   "metadata": {
    "execution": {
     "iopub.execute_input": "2020-12-20T04:48:00.752325Z",
     "iopub.status.busy": "2020-12-20T04:48:00.751841Z",
     "iopub.status.idle": "2020-12-20T04:48:01.145647Z",
     "shell.execute_reply": "2020-12-20T04:48:01.145075Z"
    }
   },
   "outputs": [],
   "source": [
    "import ctwrap as cw"
   ]
  },
  {
   "cell_type": "code",
   "execution_count": 2,
   "metadata": {
    "execution": {
     "iopub.execute_input": "2020-12-20T04:48:01.154010Z",
     "iopub.status.busy": "2020-12-20T04:48:01.153579Z",
     "iopub.status.idle": "2020-12-20T04:48:01.157698Z",
     "shell.execute_reply": "2020-12-20T04:48:01.158043Z"
    }
   },
   "outputs": [
    {
     "data": {
      "text/plain": [
       "<ctwrap.wrapper.Minimal at 0x7f39e49eca10>"
      ]
     },
     "execution_count": 1,
     "metadata": {},
     "output_type": "execute_result"
    }
   ],
   "source": [
    "sim = cw.Simulation.from_module(cw.modules.minimal)\n",
    "sim"
   ]
  },
  {
   "cell_type": "markdown",
   "metadata": {},
   "source": [
    "### Run Batch Sequence: Set up Simulation Handler object\n",
    "\n",
    "The `SimulationHandler` object uses a YAML file as input."
   ]
  },
  {
   "cell_type": "code",
   "execution_count": 3,
   "metadata": {
    "execution": {
     "iopub.execute_input": "2020-12-20T04:48:01.167616Z",
     "iopub.status.busy": "2020-12-20T04:48:01.160671Z",
     "iopub.status.idle": "2020-12-20T04:48:01.170248Z",
     "shell.execute_reply": "2020-12-20T04:48:01.170673Z"
    },
    "scrolled": true
   },
   "outputs": [
    {
     "name": "stdout",
     "output_type": "stream",
     "text": [
      "Simulations for entry `foo` with values: [0.1, 0.2, 0.3, 0.4, 0.5, 0.6, 0.7, 0.8]\n"
     ]
    },
    {
     "data": {
      "text/plain": [
       "<ctwrap.handler.SimulationHandler at 0x7f39e5ca0810>"
      ]
     },
     "execution_count": 1,
     "metadata": {},
     "output_type": "execute_result"
    }
   ],
   "source": [
    "fname = '../../yaml/minimal.yaml'\n",
    "sh = cw.SimulationHandler.from_yaml(fname, strategy='sequence', verbosity=1)\n",
    "sh"
   ]
  },
  {
   "cell_type": "code",
   "execution_count": 4,
   "metadata": {
    "execution": {
     "iopub.execute_input": "2020-12-20T04:48:01.174716Z",
     "iopub.status.busy": "2020-12-20T04:48:01.174287Z",
     "iopub.status.idle": "2020-12-20T04:48:01.176308Z",
     "shell.execute_reply": "2020-12-20T04:48:01.176733Z"
    }
   },
   "outputs": [
    {
     "data": {
      "text/plain": [
       "{'foo_0.1': {'foo': 0.1, 'bar': 1},\n",
       " 'foo_0.2': {'foo': 0.2, 'bar': 1},\n",
       " 'foo_0.3': {'foo': 0.3, 'bar': 1},\n",
       " 'foo_0.4': {'foo': 0.4, 'bar': 1},\n",
       " 'foo_0.5': {'foo': 0.5, 'bar': 1},\n",
       " 'foo_0.6': {'foo': 0.6, 'bar': 1},\n",
       " 'foo_0.7': {'foo': 0.7, 'bar': 1},\n",
       " 'foo_0.8': {'foo': 0.8, 'bar': 1}}"
      ]
     },
     "execution_count": 1,
     "metadata": {},
     "output_type": "execute_result"
    }
   ],
   "source": [
    "# list simulation tasks\n",
    "sh.tasks"
   ]
  },
  {
   "cell_type": "markdown",
   "metadata": {},
   "source": [
    "#### Run serial simulation\n",
    "\n",
    "The `run_serial` function loops through simulation tasks one by one."
   ]
  },
  {
   "cell_type": "code",
   "execution_count": 5,
   "metadata": {
    "execution": {
     "iopub.execute_input": "2020-12-20T04:48:01.180051Z",
     "iopub.status.busy": "2020-12-20T04:48:01.179640Z",
     "iopub.status.idle": "2020-12-20T04:48:04.792794Z",
     "shell.execute_reply": "2020-12-20T04:48:04.792251Z"
    }
   },
   "outputs": [
    {
     "name": "stdout",
     "output_type": "stream",
     "text": [
      "    - `minimal`: sleeping for 0.1 * 1 = 0.1 seconds ...\n",
      "    - `minimal`: sleeping for 0.2 * 1 = 0.2 seconds ...\n"
     ]
    },
    {
     "name": "stdout",
     "output_type": "stream",
     "text": [
      "    - `minimal`: sleeping for 0.3 * 1 = 0.3 seconds ...\n"
     ]
    },
    {
     "name": "stdout",
     "output_type": "stream",
     "text": [
      "    - `minimal`: sleeping for 0.4 * 1 = 0.4 seconds ...\n"
     ]
    },
    {
     "name": "stdout",
     "output_type": "stream",
     "text": [
      "    - `minimal`: sleeping for 0.5 * 1 = 0.5 seconds ...\n"
     ]
    },
    {
     "name": "stdout",
     "output_type": "stream",
     "text": [
      "    - `minimal`: sleeping for 0.6 * 1 = 0.6 seconds ...\n"
     ]
    },
    {
     "name": "stdout",
     "output_type": "stream",
     "text": [
      "    - `minimal`: sleeping for 0.7 * 1 = 0.7 seconds ...\n"
     ]
    },
    {
     "name": "stdout",
     "output_type": "stream",
     "text": [
      "    - `minimal`: sleeping for 0.8 * 1 = 0.8 seconds ...\n"
     ]
    },
    {
     "name": "stdout",
     "output_type": "stream",
     "text": [
      "CPU times: user 11.7 ms, sys: 0 ns, total: 11.7 ms\n",
      "Wall time: 3.61 s\n"
     ]
    },
    {
     "data": {
      "text/plain": [
       "True"
      ]
     },
     "execution_count": 1,
     "metadata": {},
     "output_type": "execute_result"
    }
   ],
   "source": [
    "%%time\n",
    "sh.run_serial(sim, verbosity=0)"
   ]
  },
  {
   "cell_type": "markdown",
   "metadata": {},
   "source": [
    "#### Run parallel simulation\n",
    "\n",
    "The `run_parallel` function uses Python's `multiprocessing` to process multiple single-threaded simulation jobs at the same time."
   ]
  },
  {
   "cell_type": "code",
   "execution_count": 6,
   "metadata": {
    "execution": {
     "iopub.execute_input": "2020-12-20T04:48:04.797391Z",
     "iopub.status.busy": "2020-12-20T04:48:04.796075Z",
     "iopub.status.idle": "2020-12-20T04:48:08.477305Z",
     "shell.execute_reply": "2020-12-20T04:48:08.477801Z"
    }
   },
   "outputs": [
    {
     "name": "stdout",
     "output_type": "stream",
     "text": [
      " * running simulation using 1 cores\n"
     ]
    },
    {
     "name": "stdout",
     "output_type": "stream",
     "text": [
      " * processing `foo_0.1` (Process-1)"
     ]
    },
    {
     "name": "stdout",
     "output_type": "stream",
     "text": [
      "\n"
     ]
    },
    {
     "name": "stdout",
     "output_type": "stream",
     "text": [
      "    - `minimal`: sleeping for 0.1 * 1 = 0.1 seconds ..."
     ]
    },
    {
     "name": "stdout",
     "output_type": "stream",
     "text": [
      "\n"
     ]
    },
    {
     "name": "stdout",
     "output_type": "stream",
     "text": [
      " * processing `foo_0.2` (Process-1)"
     ]
    },
    {
     "name": "stdout",
     "output_type": "stream",
     "text": [
      "\n"
     ]
    },
    {
     "name": "stdout",
     "output_type": "stream",
     "text": [
      "    - `minimal`: sleeping for 0.2 * 1 = 0.2 seconds ..."
     ]
    },
    {
     "name": "stdout",
     "output_type": "stream",
     "text": [
      "\n"
     ]
    },
    {
     "name": "stdout",
     "output_type": "stream",
     "text": [
      " * processing `foo_0.3` (Process-1)"
     ]
    },
    {
     "name": "stdout",
     "output_type": "stream",
     "text": [
      "\n"
     ]
    },
    {
     "name": "stdout",
     "output_type": "stream",
     "text": [
      "    - `minimal`: sleeping for 0.3 * 1 = 0.3 seconds ..."
     ]
    },
    {
     "name": "stdout",
     "output_type": "stream",
     "text": [
      "\n"
     ]
    },
    {
     "name": "stdout",
     "output_type": "stream",
     "text": [
      " * processing `foo_0.4` (Process-1)"
     ]
    },
    {
     "name": "stdout",
     "output_type": "stream",
     "text": [
      "\n"
     ]
    },
    {
     "name": "stdout",
     "output_type": "stream",
     "text": [
      "    - `minimal`: sleeping for 0.4 * 1 = 0.4 seconds ..."
     ]
    },
    {
     "name": "stdout",
     "output_type": "stream",
     "text": [
      "\n"
     ]
    },
    {
     "name": "stdout",
     "output_type": "stream",
     "text": [
      " * processing `foo_0.5` (Process-1)"
     ]
    },
    {
     "name": "stdout",
     "output_type": "stream",
     "text": [
      "\n"
     ]
    },
    {
     "name": "stdout",
     "output_type": "stream",
     "text": [
      "    - `minimal`: sleeping for 0.5 * 1 = 0.5 seconds ..."
     ]
    },
    {
     "name": "stdout",
     "output_type": "stream",
     "text": [
      "\n"
     ]
    },
    {
     "name": "stdout",
     "output_type": "stream",
     "text": [
      " * processing `foo_0.6` (Process-1)"
     ]
    },
    {
     "name": "stdout",
     "output_type": "stream",
     "text": [
      "\n"
     ]
    },
    {
     "name": "stdout",
     "output_type": "stream",
     "text": [
      "    - `minimal`: sleeping for 0.6 * 1 = 0.6 seconds ..."
     ]
    },
    {
     "name": "stdout",
     "output_type": "stream",
     "text": [
      "\n"
     ]
    },
    {
     "name": "stdout",
     "output_type": "stream",
     "text": [
      " * processing `foo_0.7` (Process-1)"
     ]
    },
    {
     "name": "stdout",
     "output_type": "stream",
     "text": [
      "\n"
     ]
    },
    {
     "name": "stdout",
     "output_type": "stream",
     "text": [
      "    - `minimal`: sleeping for 0.7 * 1 = 0.7 seconds ..."
     ]
    },
    {
     "name": "stdout",
     "output_type": "stream",
     "text": [
      "\n"
     ]
    },
    {
     "name": "stdout",
     "output_type": "stream",
     "text": [
      " * processing `foo_0.8` (Process-1)"
     ]
    },
    {
     "name": "stdout",
     "output_type": "stream",
     "text": [
      "\n"
     ]
    },
    {
     "name": "stdout",
     "output_type": "stream",
     "text": [
      "    - `minimal`: sleeping for 0.8 * 1 = 0.8 seconds ..."
     ]
    },
    {
     "name": "stdout",
     "output_type": "stream",
     "text": [
      "\n"
     ]
    },
    {
     "name": "stdout",
     "output_type": "stream",
     "text": [
      "CPU times: user 21.4 ms, sys: 6.78 ms, total: 28.2 ms\n",
      "Wall time: 3.68 s\n"
     ]
    },
    {
     "data": {
      "text/plain": [
       "True"
      ]
     },
     "execution_count": 1,
     "metadata": {},
     "output_type": "execute_result"
    }
   ],
   "source": [
    "%%time\n",
    "sh.run_parallel(sim, verbosity=1)"
   ]
  },
  {
   "cell_type": "markdown",
   "metadata": {},
   "source": [
    "### Run Batch Matrix: Set up Simulation Handler object\n",
    "\n",
    "The `SimulationHandler` object uses a YAML file as input."
   ]
  },
  {
   "cell_type": "code",
   "execution_count": 7,
   "metadata": {
    "execution": {
     "iopub.execute_input": "2020-12-20T04:48:08.486694Z",
     "iopub.status.busy": "2020-12-20T04:48:08.481068Z",
     "iopub.status.idle": "2020-12-20T04:48:08.488975Z",
     "shell.execute_reply": "2020-12-20T04:48:08.489396Z"
    },
    "scrolled": true
   },
   "outputs": [
    {
     "name": "stdout",
     "output_type": "stream",
     "text": [
      "Simulations for entries ['foo', 'bar']\n"
     ]
    },
    {
     "data": {
      "text/plain": [
       "<ctwrap.handler.SimulationHandler at 0x7f39e4a0e6d0>"
      ]
     },
     "execution_count": 1,
     "metadata": {},
     "output_type": "execute_result"
    }
   ],
   "source": [
    "fname = '../../yaml/minimal.yaml'\n",
    "sh = cw.SimulationHandler.from_yaml(fname, strategy='matrix', verbosity=1)\n",
    "sh"
   ]
  },
  {
   "cell_type": "code",
   "execution_count": 8,
   "metadata": {
    "execution": {
     "iopub.execute_input": "2020-12-20T04:48:08.493643Z",
     "iopub.status.busy": "2020-12-20T04:48:08.493211Z",
     "iopub.status.idle": "2020-12-20T04:48:08.495319Z",
     "shell.execute_reply": "2020-12-20T04:48:08.495741Z"
    }
   },
   "outputs": [
    {
     "data": {
      "text/plain": [
       "{'foo_0.1_bar_2': {'foo': 0.1, 'bar': 2},\n",
       " 'foo_0.1_bar_1': {'foo': 0.1, 'bar': 1},\n",
       " 'foo_0.1_bar_0': {'foo': 0.1, 'bar': 0},\n",
       " 'foo_0.2_bar_2': {'foo': 0.2, 'bar': 2},\n",
       " 'foo_0.2_bar_1': {'foo': 0.2, 'bar': 1},\n",
       " 'foo_0.2_bar_0': {'foo': 0.2, 'bar': 0},\n",
       " 'foo_0.3_bar_2': {'foo': 0.3, 'bar': 2},\n",
       " 'foo_0.3_bar_1': {'foo': 0.3, 'bar': 1},\n",
       " 'foo_0.3_bar_0': {'foo': 0.3, 'bar': 0}}"
      ]
     },
     "execution_count": 1,
     "metadata": {},
     "output_type": "execute_result"
    }
   ],
   "source": [
    "# list simulation tasks\n",
    "sh.tasks"
   ]
  },
  {
   "cell_type": "markdown",
   "metadata": {},
   "source": [
    "#### Run serial simulation\n",
    "\n",
    "The `run_serial` function loops through simulation tasks one by one."
   ]
  },
  {
   "cell_type": "code",
   "execution_count": 9,
   "metadata": {
    "execution": {
     "iopub.execute_input": "2020-12-20T04:48:08.499353Z",
     "iopub.status.busy": "2020-12-20T04:48:08.498939Z",
     "iopub.status.idle": "2020-12-20T04:48:10.310258Z",
     "shell.execute_reply": "2020-12-20T04:48:10.309654Z"
    }
   },
   "outputs": [
    {
     "name": "stdout",
     "output_type": "stream",
     "text": [
      "    - `minimal`: sleeping for 0.1 * 0 = 0.0 seconds ...\n",
      "    - `minimal`: sleeping for 0.1 * 1 = 0.1 seconds ...\n",
      "    - `minimal`: sleeping for 0.1 * 2 = 0.2 seconds ...\n"
     ]
    },
    {
     "name": "stdout",
     "output_type": "stream",
     "text": [
      "    - `minimal`: sleeping for 0.2 * 0 = 0.0 seconds ...\n",
      "    - `minimal`: sleeping for 0.2 * 1 = 0.2 seconds ...\n"
     ]
    },
    {
     "name": "stdout",
     "output_type": "stream",
     "text": [
      "    - `minimal`: sleeping for 0.2 * 2 = 0.4 seconds ...\n"
     ]
    },
    {
     "name": "stdout",
     "output_type": "stream",
     "text": [
      "    - `minimal`: sleeping for 0.3 * 0 = 0.0 seconds ...\n",
      "    - `minimal`: sleeping for 0.3 * 1 = 0.3 seconds ...\n"
     ]
    },
    {
     "name": "stdout",
     "output_type": "stream",
     "text": [
      "    - `minimal`: sleeping for 0.3 * 2 = 0.6 seconds ...\n"
     ]
    },
    {
     "name": "stdout",
     "output_type": "stream",
     "text": [
      "CPU times: user 9.52 ms, sys: 291 µs, total: 9.81 ms\n",
      "Wall time: 1.81 s\n"
     ]
    },
    {
     "data": {
      "text/plain": [
       "True"
      ]
     },
     "execution_count": 1,
     "metadata": {},
     "output_type": "execute_result"
    }
   ],
   "source": [
    "%%time\n",
    "sh.run_serial(sim, verbosity=0)"
   ]
  },
  {
   "cell_type": "markdown",
   "metadata": {},
   "source": [
    "#### Run parallel simulation\n",
    "\n",
    "The `run_parallel` function uses Python's `multiprocessing` to process multiple single-threaded simulation jobs at the same time."
   ]
  },
  {
   "cell_type": "code",
   "execution_count": 10,
   "metadata": {
    "execution": {
     "iopub.execute_input": "2020-12-20T04:48:10.314122Z",
     "iopub.status.busy": "2020-12-20T04:48:10.313690Z",
     "iopub.status.idle": "2020-12-20T04:48:12.200551Z",
     "shell.execute_reply": "2020-12-20T04:48:12.201054Z"
    }
   },
   "outputs": [
    {
     "name": "stdout",
     "output_type": "stream",
     "text": [
      " * running simulation using 1 cores\n"
     ]
    },
    {
     "name": "stdout",
     "output_type": "stream",
     "text": [
      " * processing `foo_0.1_bar_0` (Process-2)"
     ]
    },
    {
     "name": "stdout",
     "output_type": "stream",
     "text": [
      "\n"
     ]
    },
    {
     "name": "stdout",
     "output_type": "stream",
     "text": [
      "    - `minimal`: sleeping for 0.1 * 0 = 0.0 seconds ..."
     ]
    },
    {
     "name": "stdout",
     "output_type": "stream",
     "text": [
      "\n"
     ]
    },
    {
     "name": "stdout",
     "output_type": "stream",
     "text": [
      " * processing `foo_0.1_bar_1` (Process-2)"
     ]
    },
    {
     "name": "stdout",
     "output_type": "stream",
     "text": [
      "\n"
     ]
    },
    {
     "name": "stdout",
     "output_type": "stream",
     "text": [
      "    - `minimal`: sleeping for 0.1 * 1 = 0.1 seconds ..."
     ]
    },
    {
     "name": "stdout",
     "output_type": "stream",
     "text": [
      "\n"
     ]
    },
    {
     "name": "stdout",
     "output_type": "stream",
     "text": [
      " * processing `foo_0.1_bar_2` (Process-2)"
     ]
    },
    {
     "name": "stdout",
     "output_type": "stream",
     "text": [
      "\n"
     ]
    },
    {
     "name": "stdout",
     "output_type": "stream",
     "text": [
      "    - `minimal`: sleeping for 0.1 * 2 = 0.2 seconds ..."
     ]
    },
    {
     "name": "stdout",
     "output_type": "stream",
     "text": [
      "\n"
     ]
    },
    {
     "name": "stdout",
     "output_type": "stream",
     "text": [
      " * processing `foo_0.2_bar_0` (Process-2)"
     ]
    },
    {
     "name": "stdout",
     "output_type": "stream",
     "text": [
      "\n"
     ]
    },
    {
     "name": "stdout",
     "output_type": "stream",
     "text": [
      "    - `minimal`: sleeping for 0.2 * 0 = 0.0 seconds ..."
     ]
    },
    {
     "name": "stdout",
     "output_type": "stream",
     "text": [
      "\n"
     ]
    },
    {
     "name": "stdout",
     "output_type": "stream",
     "text": [
      " * processing `foo_0.2_bar_1` (Process-2)"
     ]
    },
    {
     "name": "stdout",
     "output_type": "stream",
     "text": [
      "\n"
     ]
    },
    {
     "name": "stdout",
     "output_type": "stream",
     "text": [
      "    - `minimal`: sleeping for 0.2 * 1 = 0.2 seconds ..."
     ]
    },
    {
     "name": "stdout",
     "output_type": "stream",
     "text": [
      "\n"
     ]
    },
    {
     "name": "stdout",
     "output_type": "stream",
     "text": [
      " * processing `foo_0.2_bar_2` (Process-2)"
     ]
    },
    {
     "name": "stdout",
     "output_type": "stream",
     "text": [
      "\n"
     ]
    },
    {
     "name": "stdout",
     "output_type": "stream",
     "text": [
      "    - `minimal`: sleeping for 0.2 * 2 = 0.4 seconds ..."
     ]
    },
    {
     "name": "stdout",
     "output_type": "stream",
     "text": [
      "\n"
     ]
    },
    {
     "name": "stdout",
     "output_type": "stream",
     "text": [
      " * processing `foo_0.3_bar_0` (Process-2)"
     ]
    },
    {
     "name": "stdout",
     "output_type": "stream",
     "text": [
      "\n"
     ]
    },
    {
     "name": "stdout",
     "output_type": "stream",
     "text": [
      "    - `minimal`: sleeping for 0.3 * 0 = 0.0 seconds ..."
     ]
    },
    {
     "name": "stdout",
     "output_type": "stream",
     "text": [
      "\n"
     ]
    },
    {
     "name": "stdout",
     "output_type": "stream",
     "text": [
      " * processing `foo_0.3_bar_1` (Process-2)"
     ]
    },
    {
     "name": "stdout",
     "output_type": "stream",
     "text": [
      "\n"
     ]
    },
    {
     "name": "stdout",
     "output_type": "stream",
     "text": [
      "    - `minimal`: sleeping for 0.3 * 1 = 0.3 seconds ..."
     ]
    },
    {
     "name": "stdout",
     "output_type": "stream",
     "text": [
      "\n"
     ]
    },
    {
     "name": "stdout",
     "output_type": "stream",
     "text": [
      " * processing `foo_0.3_bar_2` (Process-2)"
     ]
    },
    {
     "name": "stdout",
     "output_type": "stream",
     "text": [
      "\n"
     ]
    },
    {
     "name": "stdout",
     "output_type": "stream",
     "text": [
      "    - `minimal`: sleeping for 0.3 * 2 = 0.6 seconds ..."
     ]
    },
    {
     "name": "stdout",
     "output_type": "stream",
     "text": [
      "\n"
     ]
    },
    {
     "name": "stdout",
     "output_type": "stream",
     "text": [
      "CPU times: user 14.6 ms, sys: 12 ms, total: 26.6 ms\n",
      "Wall time: 1.88 s\n"
     ]
    },
    {
     "data": {
      "text/plain": [
       "True"
      ]
     },
     "execution_count": 1,
     "metadata": {},
     "output_type": "execute_result"
    }
   ],
   "source": [
    "%%time\n",
    "sh.run_parallel(sim, verbosity=1)"
   ]
  }
 ],
 "metadata": {
  "kernelspec": {
   "display_name": "Python 3",
   "language": "python",
   "name": "python3"
  },
  "language_info": {
   "codemirror_mode": {
    "name": "ipython",
    "version": 3
   },
   "file_extension": ".py",
   "mimetype": "text/x-python",
   "name": "python",
   "nbconvert_exporter": "python",
   "pygments_lexer": "ipython3",
   "version": "3.7.9"
  }
 },
 "nbformat": 4,
 "nbformat_minor": 2
}
