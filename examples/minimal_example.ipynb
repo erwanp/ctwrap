{
 "cells": [
  {
   "cell_type": "markdown",
   "metadata": {},
   "source": [
    "# Minimal Example\n",
    "Testing basic functions of the ctwrap package using the minimal module \n",
    "(which does not use Cantera, but just 'sleeps' for a specified amount of seconds)."
   ]
  },
  {
   "cell_type": "markdown",
   "metadata": {},
   "source": [
    "### Set up Simulation object\n",
    "\n",
    "The `Simulation` object wraps the module, which can be run with default arguments."
   ]
  },
  {
   "cell_type": "code",
   "execution_count": 1,
   "metadata": {
    "execution": {
     "iopub.execute_input": "2020-12-30T19:53:40.695403Z",
     "iopub.status.busy": "2020-12-30T19:53:40.694969Z",
     "iopub.status.idle": "2020-12-30T19:53:41.225460Z",
     "shell.execute_reply": "2020-12-30T19:53:41.224525Z"
    }
   },
   "outputs": [],
   "source": [
    "import ctwrap as cw"
   ]
  },
  {
   "cell_type": "code",
   "execution_count": 2,
   "metadata": {
    "execution": {
     "iopub.execute_input": "2020-12-30T19:53:41.234378Z",
     "iopub.status.busy": "2020-12-30T19:53:41.228467Z",
     "iopub.status.idle": "2020-12-30T19:53:41.238522Z",
     "shell.execute_reply": "2020-12-30T19:53:41.238134Z"
    }
   },
   "outputs": [
    {
     "data": {
      "text/plain": [
       "<ctwrap.wrapper.Minimal at 0x7f82e7518f50>"
      ]
     },
     "execution_count": 1,
     "metadata": {},
     "output_type": "execute_result"
    }
   ],
   "source": [
    "sim = cw.Simulation.from_module(cw.modules.minimal)\n",
    "sim"
   ]
  },
  {
   "cell_type": "markdown",
   "metadata": {},
   "source": [
    "### Set up Simulation Handler object\n",
    "\n",
    "The `SimulationHandler` object uses a YAML file as input."
   ]
  },
  {
   "cell_type": "code",
   "execution_count": 3,
   "metadata": {
    "execution": {
     "iopub.execute_input": "2020-12-30T19:53:41.248303Z",
     "iopub.status.busy": "2020-12-30T19:53:41.241469Z",
     "iopub.status.idle": "2020-12-30T19:53:41.252791Z",
     "shell.execute_reply": "2020-12-30T19:53:41.252331Z"
    },
    "scrolled": true
   },
   "outputs": [
    {
     "name": "stdout",
     "output_type": "stream",
     "text": [
      "Simulations for entry `foo` with values: [0.1, 0.2, 0.3, 0.4, 0.5, 0.6, 0.7,\n",
      "0.8]\n"
     ]
    },
    {
     "data": {
      "text/plain": [
       "<ctwrap.handler.SimulationHandler at 0x7f82e751ce10>"
      ]
     },
     "execution_count": 1,
     "metadata": {},
     "output_type": "execute_result"
    }
   ],
   "source": [
    "fname = '../../yaml/minimal.yaml'\n",
    "sh = cw.SimulationHandler.from_yaml(fname, strategy='sequence', verbosity=1)\n",
    "sh"
   ]
  },
  {
   "cell_type": "code",
   "execution_count": 4,
   "metadata": {
    "execution": {
     "iopub.execute_input": "2020-12-30T19:53:41.256381Z",
     "iopub.status.busy": "2020-12-30T19:53:41.255957Z",
     "iopub.status.idle": "2020-12-30T19:53:41.259778Z",
     "shell.execute_reply": "2020-12-30T19:53:41.260120Z"
    }
   },
   "outputs": [
    {
     "data": {
      "text/plain": [
       "{'case_0': {'foo': 0.1},\n",
       " 'case_1': {'foo': 0.2},\n",
       " 'case_2': {'foo': 0.3},\n",
       " 'case_3': {'foo': 0.4},\n",
       " 'case_4': {'foo': 0.5},\n",
       " 'case_5': {'foo': 0.6},\n",
       " 'case_6': {'foo': 0.7},\n",
       " 'case_7': {'foo': 0.8}}"
      ]
     },
     "execution_count": 1,
     "metadata": {},
     "output_type": "execute_result"
    }
   ],
   "source": [
    "# list simulation tasks\n",
    "sh.tasks"
   ]
  },
  {
   "cell_type": "markdown",
   "metadata": {},
   "source": [
    "#### Run serial simulation\n",
    "\n",
    "The `run_serial` function loops through simulation tasks one by one."
   ]
  },
  {
   "cell_type": "code",
   "execution_count": 5,
   "metadata": {
    "execution": {
     "iopub.execute_input": "2020-12-30T19:53:41.263709Z",
     "iopub.status.busy": "2020-12-30T19:53:41.263287Z",
     "iopub.status.idle": "2020-12-30T19:53:44.876951Z",
     "shell.execute_reply": "2020-12-30T19:53:44.877455Z"
    }
   },
   "outputs": [
    {
     "name": "stdout",
     "output_type": "stream",
     "text": [
      "    - `minimal`: sleeping for 0.1 * 1 = 0.1 seconds ...\n",
      "    - `minimal`: sleeping for 0.2 * 1 = 0.2 seconds ...\n"
     ]
    },
    {
     "name": "stdout",
     "output_type": "stream",
     "text": [
      "    - `minimal`: sleeping for 0.3 * 1 = 0.3 seconds ...\n"
     ]
    },
    {
     "name": "stdout",
     "output_type": "stream",
     "text": [
      "    - `minimal`: sleeping for 0.4 * 1 = 0.4 seconds ...\n"
     ]
    },
    {
     "name": "stdout",
     "output_type": "stream",
     "text": [
      "    - `minimal`: sleeping for 0.5 * 1 = 0.5 seconds ...\n"
     ]
    },
    {
     "name": "stdout",
     "output_type": "stream",
     "text": [
      "    - `minimal`: sleeping for 0.6 * 1 = 0.6 seconds ...\n"
     ]
    },
    {
     "name": "stdout",
     "output_type": "stream",
     "text": [
      "    - `minimal`: sleeping for 0.7 * 1 = 0.7 seconds ...\n"
     ]
    },
    {
     "name": "stdout",
     "output_type": "stream",
     "text": [
      "    - `minimal`: sleeping for 0.8 * 1 = 0.8 seconds ...\n"
     ]
    },
    {
     "name": "stdout",
     "output_type": "stream",
     "text": [
      "CPU times: user 10.3 ms, sys: 3.73 ms, total: 14 ms\n",
      "Wall time: 3.61 s\n"
     ]
    },
    {
     "data": {
      "text/plain": [
       "True"
      ]
     },
     "execution_count": 1,
     "metadata": {},
     "output_type": "execute_result"
    }
   ],
   "source": [
    "%%time\n",
    "sh.run_serial(sim, verbosity=0)"
   ]
  },
  {
   "cell_type": "markdown",
   "metadata": {},
   "source": [
    "#### Run parallel simulation\n",
    "\n",
    "The `run_parallel` function uses Python's `multiprocessing` to process multiple single-threaded simulation jobs at the same time."
   ]
  },
  {
   "cell_type": "code",
   "execution_count": 6,
   "metadata": {
    "execution": {
     "iopub.execute_input": "2020-12-30T19:53:44.881259Z",
     "iopub.status.busy": "2020-12-30T19:53:44.880781Z",
     "iopub.status.idle": "2020-12-30T19:53:48.563689Z",
     "shell.execute_reply": "2020-12-30T19:53:48.563295Z"
    }
   },
   "outputs": [
    {
     "name": "stdout",
     "output_type": "stream",
     "text": [
      " * Starting parallel batch simulation using 1 cores\n"
     ]
    },
    {
     "name": "stdout",
     "output_type": "stream",
     "text": [
      " * running `case_0` (Process-1)"
     ]
    },
    {
     "name": "stdout",
     "output_type": "stream",
     "text": [
      "\n"
     ]
    },
    {
     "name": "stdout",
     "output_type": "stream",
     "text": [
      "    - `minimal`: sleeping for 0.1 * 1 = 0.1 seconds ..."
     ]
    },
    {
     "name": "stdout",
     "output_type": "stream",
     "text": [
      "\n"
     ]
    },
    {
     "name": "stdout",
     "output_type": "stream",
     "text": [
      " * running `case_1` (Process-1)"
     ]
    },
    {
     "name": "stdout",
     "output_type": "stream",
     "text": [
      "\n"
     ]
    },
    {
     "name": "stdout",
     "output_type": "stream",
     "text": [
      "    - `minimal`: sleeping for 0.2 * 1 = 0.2 seconds ..."
     ]
    },
    {
     "name": "stdout",
     "output_type": "stream",
     "text": [
      "\n"
     ]
    },
    {
     "name": "stdout",
     "output_type": "stream",
     "text": [
      " * running `case_2` (Process-1)"
     ]
    },
    {
     "name": "stdout",
     "output_type": "stream",
     "text": [
      "\n"
     ]
    },
    {
     "name": "stdout",
     "output_type": "stream",
     "text": [
      "    - `minimal`: sleeping for 0.3 * 1 = 0.3 seconds ..."
     ]
    },
    {
     "name": "stdout",
     "output_type": "stream",
     "text": [
      "\n"
     ]
    },
    {
     "name": "stdout",
     "output_type": "stream",
     "text": [
      " * running `case_3` (Process-1)"
     ]
    },
    {
     "name": "stdout",
     "output_type": "stream",
     "text": [
      "\n"
     ]
    },
    {
     "name": "stdout",
     "output_type": "stream",
     "text": [
      "    - `minimal`: sleeping for 0.4 * 1 = 0.4 seconds ..."
     ]
    },
    {
     "name": "stdout",
     "output_type": "stream",
     "text": [
      "\n"
     ]
    },
    {
     "name": "stdout",
     "output_type": "stream",
     "text": [
      " * running `case_4` (Process-1)"
     ]
    },
    {
     "name": "stdout",
     "output_type": "stream",
     "text": [
      "\n"
     ]
    },
    {
     "name": "stdout",
     "output_type": "stream",
     "text": [
      "    - `minimal`: sleeping for 0.5 * 1 = 0.5 seconds ..."
     ]
    },
    {
     "name": "stdout",
     "output_type": "stream",
     "text": [
      "\n"
     ]
    },
    {
     "name": "stdout",
     "output_type": "stream",
     "text": [
      " * running `case_5` (Process-1)"
     ]
    },
    {
     "name": "stdout",
     "output_type": "stream",
     "text": [
      "\n"
     ]
    },
    {
     "name": "stdout",
     "output_type": "stream",
     "text": [
      "    - `minimal`: sleeping for 0.6 * 1 = 0.6 seconds ..."
     ]
    },
    {
     "name": "stdout",
     "output_type": "stream",
     "text": [
      "\n"
     ]
    },
    {
     "name": "stdout",
     "output_type": "stream",
     "text": [
      " * running `case_6` (Process-1)"
     ]
    },
    {
     "name": "stdout",
     "output_type": "stream",
     "text": [
      "\n"
     ]
    },
    {
     "name": "stdout",
     "output_type": "stream",
     "text": [
      "    - `minimal`: sleeping for 0.7 * 1 = 0.7 seconds ..."
     ]
    },
    {
     "name": "stdout",
     "output_type": "stream",
     "text": [
      "\n"
     ]
    },
    {
     "name": "stdout",
     "output_type": "stream",
     "text": [
      " * running `case_7` (Process-1)"
     ]
    },
    {
     "name": "stdout",
     "output_type": "stream",
     "text": [
      "\n"
     ]
    },
    {
     "name": "stdout",
     "output_type": "stream",
     "text": [
      "    - `minimal`: sleeping for 0.8 * 1 = 0.8 seconds ..."
     ]
    },
    {
     "name": "stdout",
     "output_type": "stream",
     "text": [
      "\n"
     ]
    },
    {
     "name": "stdout",
     "output_type": "stream",
     "text": [
      "CPU times: user 13.5 ms, sys: 12.9 ms, total: 26.4 ms\n",
      "Wall time: 3.68 s\n"
     ]
    },
    {
     "data": {
      "text/plain": [
       "True"
      ]
     },
     "execution_count": 1,
     "metadata": {},
     "output_type": "execute_result"
    }
   ],
   "source": [
    "%%time\n",
    "sh.run_parallel(sim, verbosity=1)"
   ]
  },
  {
   "cell_type": "markdown",
   "metadata": {},
   "source": [
    "### Run Batch Matrix: Set up Simulation Handler object\n",
    "\n",
    "The `SimulationHandler` object uses a YAML file as input."
   ]
  },
  {
   "cell_type": "code",
   "execution_count": 7,
   "metadata": {
    "execution": {
     "iopub.execute_input": "2020-12-30T19:53:48.567563Z",
     "iopub.status.busy": "2020-12-30T19:53:48.567137Z",
     "iopub.status.idle": "2020-12-30T19:53:48.575044Z",
     "shell.execute_reply": "2020-12-30T19:53:48.575479Z"
    },
    "scrolled": true
   },
   "outputs": [
    {
     "name": "stdout",
     "output_type": "stream",
     "text": [
      "Simulations for entries ['foo', 'bar']\n"
     ]
    },
    {
     "data": {
      "text/plain": [
       "<ctwrap.handler.SimulationHandler at 0x7f82e74cc590>"
      ]
     },
     "execution_count": 1,
     "metadata": {},
     "output_type": "execute_result"
    }
   ],
   "source": [
    "fname = '../../yaml/minimal.yaml'\n",
    "sh = cw.SimulationHandler.from_yaml(fname, strategy='matrix', verbosity=1)\n",
    "sh"
   ]
  },
  {
   "cell_type": "code",
   "execution_count": 8,
   "metadata": {
    "execution": {
     "iopub.execute_input": "2020-12-30T19:53:48.579787Z",
     "iopub.status.busy": "2020-12-30T19:53:48.579352Z",
     "iopub.status.idle": "2020-12-30T19:53:48.581453Z",
     "shell.execute_reply": "2020-12-30T19:53:48.581893Z"
    }
   },
   "outputs": [
    {
     "data": {
      "text/plain": [
       "{'case_0': {'foo': 0.1, 'bar': 2},\n",
       " 'case_1': {'foo': 0.1, 'bar': 1},\n",
       " 'case_2': {'foo': 0.1, 'bar': 0},\n",
       " 'case_3': {'foo': 0.2, 'bar': 2},\n",
       " 'case_4': {'foo': 0.2, 'bar': 1},\n",
       " 'case_5': {'foo': 0.2, 'bar': 0},\n",
       " 'case_6': {'foo': 0.3, 'bar': 2},\n",
       " 'case_7': {'foo': 0.3, 'bar': 1},\n",
       " 'case_8': {'foo': 0.3, 'bar': 0}}"
      ]
     },
     "execution_count": 1,
     "metadata": {},
     "output_type": "execute_result"
    }
   ],
   "source": [
    "# list simulation tasks\n",
    "sh.tasks"
   ]
  },
  {
   "cell_type": "markdown",
   "metadata": {},
   "source": [
    "#### Run serial simulation\n",
    "\n",
    "The `run_serial` function loops through simulation tasks one by one."
   ]
  },
  {
   "cell_type": "code",
   "execution_count": 9,
   "metadata": {
    "execution": {
     "iopub.execute_input": "2020-12-30T19:53:48.585928Z",
     "iopub.status.busy": "2020-12-30T19:53:48.585492Z",
     "iopub.status.idle": "2020-12-30T19:53:50.396927Z",
     "shell.execute_reply": "2020-12-30T19:53:50.397325Z"
    }
   },
   "outputs": [
    {
     "name": "stdout",
     "output_type": "stream",
     "text": [
      "    - `minimal`: sleeping for 0.1 * 2 = 0.2 seconds ...\n"
     ]
    },
    {
     "name": "stdout",
     "output_type": "stream",
     "text": [
      "    - `minimal`: sleeping for 0.1 * 1 = 0.1 seconds ...\n",
      "    - `minimal`: sleeping for 0.1 * 0 = 0.0 seconds ...\n",
      "    - `minimal`: sleeping for 0.2 * 2 = 0.4 seconds ...\n"
     ]
    },
    {
     "name": "stdout",
     "output_type": "stream",
     "text": [
      "    - `minimal`: sleeping for 0.2 * 1 = 0.2 seconds ...\n"
     ]
    },
    {
     "name": "stdout",
     "output_type": "stream",
     "text": [
      "    - `minimal`: sleeping for 0.2 * 0 = 0.0 seconds ...\n",
      "    - `minimal`: sleeping for 0.3 * 2 = 0.6 seconds ...\n"
     ]
    },
    {
     "name": "stdout",
     "output_type": "stream",
     "text": [
      "    - `minimal`: sleeping for 0.3 * 1 = 0.3 seconds ...\n"
     ]
    },
    {
     "name": "stdout",
     "output_type": "stream",
     "text": [
      "    - `minimal`: sleeping for 0.3 * 0 = 0.0 seconds ...\n",
      "CPU times: user 8.07 ms, sys: 3.97 ms, total: 12 ms\n",
      "Wall time: 1.81 s\n"
     ]
    },
    {
     "data": {
      "text/plain": [
       "True"
      ]
     },
     "execution_count": 1,
     "metadata": {},
     "output_type": "execute_result"
    }
   ],
   "source": [
    "%%time\n",
    "sh.run_serial(sim, verbosity=0)"
   ]
  },
  {
   "cell_type": "markdown",
   "metadata": {},
   "source": [
    "#### Run parallel simulation\n",
    "\n",
    "The `run_parallel` function uses Python's `multiprocessing` to process multiple single-threaded simulation jobs at the same time."
   ]
  },
  {
   "cell_type": "code",
   "execution_count": 10,
   "metadata": {
    "execution": {
     "iopub.execute_input": "2020-12-30T19:53:50.402288Z",
     "iopub.status.busy": "2020-12-30T19:53:50.401213Z",
     "iopub.status.idle": "2020-12-30T19:53:52.289361Z",
     "shell.execute_reply": "2020-12-30T19:53:52.288968Z"
    }
   },
   "outputs": [
    {
     "name": "stdout",
     "output_type": "stream",
     "text": [
      " * Starting parallel batch simulation using 1 cores\n"
     ]
    },
    {
     "name": "stdout",
     "output_type": "stream",
     "text": [
      " * running `case_0` (Process-2)"
     ]
    },
    {
     "name": "stdout",
     "output_type": "stream",
     "text": [
      "\n"
     ]
    },
    {
     "name": "stdout",
     "output_type": "stream",
     "text": [
      "    - `minimal`: sleeping for 0.1 * 2 = 0.2 seconds ..."
     ]
    },
    {
     "name": "stdout",
     "output_type": "stream",
     "text": [
      "\n"
     ]
    },
    {
     "name": "stdout",
     "output_type": "stream",
     "text": [
      " * running `case_1` (Process-2)"
     ]
    },
    {
     "name": "stdout",
     "output_type": "stream",
     "text": [
      "\n"
     ]
    },
    {
     "name": "stdout",
     "output_type": "stream",
     "text": [
      "    - `minimal`: sleeping for 0.1 * 1 = 0.1 seconds ..."
     ]
    },
    {
     "name": "stdout",
     "output_type": "stream",
     "text": [
      "\n"
     ]
    },
    {
     "name": "stdout",
     "output_type": "stream",
     "text": [
      " * running `case_2` (Process-2)"
     ]
    },
    {
     "name": "stdout",
     "output_type": "stream",
     "text": [
      "\n"
     ]
    },
    {
     "name": "stdout",
     "output_type": "stream",
     "text": [
      "    - `minimal`: sleeping for 0.1 * 0 = 0.0 seconds ..."
     ]
    },
    {
     "name": "stdout",
     "output_type": "stream",
     "text": [
      "\n"
     ]
    },
    {
     "name": "stdout",
     "output_type": "stream",
     "text": [
      " * running `case_3` (Process-2)"
     ]
    },
    {
     "name": "stdout",
     "output_type": "stream",
     "text": [
      "\n"
     ]
    },
    {
     "name": "stdout",
     "output_type": "stream",
     "text": [
      "    - `minimal`: sleeping for 0.2 * 2 = 0.4 seconds ..."
     ]
    },
    {
     "name": "stdout",
     "output_type": "stream",
     "text": [
      "\n"
     ]
    },
    {
     "name": "stdout",
     "output_type": "stream",
     "text": [
      " * running `case_4` (Process-2)"
     ]
    },
    {
     "name": "stdout",
     "output_type": "stream",
     "text": [
      "\n"
     ]
    },
    {
     "name": "stdout",
     "output_type": "stream",
     "text": [
      "    - `minimal`: sleeping for 0.2 * 1 = 0.2 seconds ..."
     ]
    },
    {
     "name": "stdout",
     "output_type": "stream",
     "text": [
      "\n"
     ]
    },
    {
     "name": "stdout",
     "output_type": "stream",
     "text": [
      " * running `case_5` (Process-2)"
     ]
    },
    {
     "name": "stdout",
     "output_type": "stream",
     "text": [
      "\n"
     ]
    },
    {
     "name": "stdout",
     "output_type": "stream",
     "text": [
      "    - `minimal`: sleeping for 0.2 * 0 = 0.0 seconds ..."
     ]
    },
    {
     "name": "stdout",
     "output_type": "stream",
     "text": [
      "\n"
     ]
    },
    {
     "name": "stdout",
     "output_type": "stream",
     "text": [
      " * running `case_6` (Process-2)"
     ]
    },
    {
     "name": "stdout",
     "output_type": "stream",
     "text": [
      "\n"
     ]
    },
    {
     "name": "stdout",
     "output_type": "stream",
     "text": [
      "    - `minimal`: sleeping for 0.3 * 2 = 0.6 seconds ..."
     ]
    },
    {
     "name": "stdout",
     "output_type": "stream",
     "text": [
      "\n"
     ]
    },
    {
     "name": "stdout",
     "output_type": "stream",
     "text": [
      " * running `case_7` (Process-2)"
     ]
    },
    {
     "name": "stdout",
     "output_type": "stream",
     "text": [
      "\n"
     ]
    },
    {
     "name": "stdout",
     "output_type": "stream",
     "text": [
      "    - `minimal`: sleeping for 0.3 * 1 = 0.3 seconds ..."
     ]
    },
    {
     "name": "stdout",
     "output_type": "stream",
     "text": [
      "\n"
     ]
    },
    {
     "name": "stdout",
     "output_type": "stream",
     "text": [
      " * running `case_8` (Process-2)"
     ]
    },
    {
     "name": "stdout",
     "output_type": "stream",
     "text": [
      "\n"
     ]
    },
    {
     "name": "stdout",
     "output_type": "stream",
     "text": [
      "    - `minimal`: sleeping for 0.3 * 0 = 0.0 seconds ..."
     ]
    },
    {
     "name": "stdout",
     "output_type": "stream",
     "text": [
      "\n"
     ]
    },
    {
     "name": "stdout",
     "output_type": "stream",
     "text": [
      "CPU times: user 23.5 ms, sys: 3.21 ms, total: 26.7 ms\n",
      "Wall time: 1.88 s\n"
     ]
    },
    {
     "data": {
      "text/plain": [
       "True"
      ]
     },
     "execution_count": 1,
     "metadata": {},
     "output_type": "execute_result"
    }
   ],
   "source": [
    "%%time\n",
    "sh.run_parallel(sim, verbosity=1)"
   ]
  }
 ],
 "metadata": {
  "kernelspec": {
   "display_name": "Python 3",
   "language": "python",
   "name": "python3"
  },
  "language_info": {
   "codemirror_mode": {
    "name": "ipython",
    "version": 3
   },
   "file_extension": ".py",
   "mimetype": "text/x-python",
   "name": "python",
   "nbconvert_exporter": "python",
   "pygments_lexer": "ipython3",
   "version": "3.7.9"
  }
 },
 "nbformat": 4,
 "nbformat_minor": 2
}
